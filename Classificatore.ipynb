{
 "cells": [
  {
   "cell_type": "markdown",
   "metadata": {},
   "source": [
    "# Classificazione della qualità del vino\n",
    "Per la classificazione delle diverse tipologie di vino abbiamo effettuato un confronto tra i diversi modelli di _apprendimento supervisionato_ con l'obbiettivo di trovare il classificatore migliore in grado di determinare il valore più attendibile per il confronto della qualità\n",
    "\n",
    "Importiamo i moduli e le librerie utili alla realizzazione del sistema"
   ]
  },
  {
   "cell_type": "code",
   "execution_count": 1,
   "metadata": {},
   "outputs": [],
   "source": [
    "import numpy as np\n",
    "import pandas as pd\n",
    "import pylab \n",
    "import seaborn as sns\n",
    "\n",
    "from matplotlib import pyplot as plt\n",
    "\n",
    "from sklearn.base import BaseEstimator, TransformerMixin, clone, ClassifierMixin\n",
    "from sklearn import metrics, tree, linear_model\n",
    "from sklearn.preprocessing import LabelEncoder, OrdinalEncoder, StandardScaler, PolynomialFeatures, MinMaxScaler\n",
    "\n",
    "from sklearn.decomposition import PCA\n",
    "from sklearn.discriminant_analysis import LinearDiscriminantAnalysis as LDA\n",
    "from sklearn.pipeline import Pipeline, make_pipeline\n",
    "from sklearn.model_selection import GridSearchCV, cross_val_score, KFold, cross_val_predict, train_test_split, StratifiedKFold\n",
    "from sklearn.metrics import mean_squared_error, r2_score, accuracy_score, classification_report, precision_score, recall_score, f1_score, accuracy_score, roc_auc_score, matthews_corrcoef\n",
    "from imblearn.over_sampling import SMOTE, ADASYN\n",
    "from imblearn.pipeline import Pipeline as imbpipeline\n",
    "from sklearn.metrics import confusion_matrix\n",
    "from sklearn.metrics import ConfusionMatrixDisplay \n",
    "from imblearn.metrics import geometric_mean_score\n",
    "\n",
    "\n",
    "from sklearn.linear_model import LogisticRegression\n",
    "from sklearn.naive_bayes import GaussianNB\n",
    "from sklearn.tree import DecisionTreeClassifier\n",
    "from sklearn.ensemble import RandomForestClassifier\n",
    "from sklearn.neighbors import KNeighborsClassifier\n",
    "from sklearn.svm import SVC, LinearSVC"
   ]
  },
  {
   "cell_type": "markdown",
   "metadata": {},
   "source": [
    "## Load del dataset\n",
    "Carichiamo il dataset in locale e lo visualizziamo"
   ]
  },
  {
   "cell_type": "code",
   "execution_count": 2,
   "metadata": {},
   "outputs": [
    {
     "data": {
      "text/html": [
       "<div>\n",
       "<style scoped>\n",
       "    .dataframe tbody tr th:only-of-type {\n",
       "        vertical-align: middle;\n",
       "    }\n",
       "\n",
       "    .dataframe tbody tr th {\n",
       "        vertical-align: top;\n",
       "    }\n",
       "\n",
       "    .dataframe thead th {\n",
       "        text-align: right;\n",
       "    }\n",
       "</style>\n",
       "<table border=\"1\" class=\"dataframe\">\n",
       "  <thead>\n",
       "    <tr style=\"text-align: right;\">\n",
       "      <th></th>\n",
       "      <th>type</th>\n",
       "      <th>fixed acidity</th>\n",
       "      <th>volatile acidity</th>\n",
       "      <th>citric acid</th>\n",
       "      <th>residual sugar</th>\n",
       "      <th>chlorides</th>\n",
       "      <th>free sulfur dioxide</th>\n",
       "      <th>total sulfur dioxide</th>\n",
       "      <th>density</th>\n",
       "      <th>pH</th>\n",
       "      <th>sulphates</th>\n",
       "      <th>alcohol</th>\n",
       "      <th>quality</th>\n",
       "    </tr>\n",
       "  </thead>\n",
       "  <tbody>\n",
       "    <tr>\n",
       "      <th>0</th>\n",
       "      <td>white</td>\n",
       "      <td>7.0</td>\n",
       "      <td>0.27</td>\n",
       "      <td>0.36</td>\n",
       "      <td>20.7</td>\n",
       "      <td>0.045</td>\n",
       "      <td>45.0</td>\n",
       "      <td>170.0</td>\n",
       "      <td>1.0010</td>\n",
       "      <td>3.00</td>\n",
       "      <td>0.45</td>\n",
       "      <td>8.8</td>\n",
       "      <td>6</td>\n",
       "    </tr>\n",
       "    <tr>\n",
       "      <th>1</th>\n",
       "      <td>white</td>\n",
       "      <td>6.3</td>\n",
       "      <td>0.30</td>\n",
       "      <td>0.34</td>\n",
       "      <td>1.6</td>\n",
       "      <td>0.049</td>\n",
       "      <td>14.0</td>\n",
       "      <td>132.0</td>\n",
       "      <td>0.9940</td>\n",
       "      <td>3.30</td>\n",
       "      <td>0.49</td>\n",
       "      <td>9.5</td>\n",
       "      <td>6</td>\n",
       "    </tr>\n",
       "    <tr>\n",
       "      <th>2</th>\n",
       "      <td>white</td>\n",
       "      <td>8.1</td>\n",
       "      <td>0.28</td>\n",
       "      <td>0.40</td>\n",
       "      <td>6.9</td>\n",
       "      <td>0.050</td>\n",
       "      <td>30.0</td>\n",
       "      <td>97.0</td>\n",
       "      <td>0.9951</td>\n",
       "      <td>3.26</td>\n",
       "      <td>0.44</td>\n",
       "      <td>10.1</td>\n",
       "      <td>6</td>\n",
       "    </tr>\n",
       "    <tr>\n",
       "      <th>3</th>\n",
       "      <td>white</td>\n",
       "      <td>7.2</td>\n",
       "      <td>0.23</td>\n",
       "      <td>0.32</td>\n",
       "      <td>8.5</td>\n",
       "      <td>0.058</td>\n",
       "      <td>47.0</td>\n",
       "      <td>186.0</td>\n",
       "      <td>0.9956</td>\n",
       "      <td>3.19</td>\n",
       "      <td>0.40</td>\n",
       "      <td>9.9</td>\n",
       "      <td>6</td>\n",
       "    </tr>\n",
       "    <tr>\n",
       "      <th>4</th>\n",
       "      <td>white</td>\n",
       "      <td>7.2</td>\n",
       "      <td>0.23</td>\n",
       "      <td>0.32</td>\n",
       "      <td>8.5</td>\n",
       "      <td>0.058</td>\n",
       "      <td>47.0</td>\n",
       "      <td>186.0</td>\n",
       "      <td>0.9956</td>\n",
       "      <td>3.19</td>\n",
       "      <td>0.40</td>\n",
       "      <td>9.9</td>\n",
       "      <td>6</td>\n",
       "    </tr>\n",
       "  </tbody>\n",
       "</table>\n",
       "</div>"
      ],
      "text/plain": [
       "    type  fixed acidity  volatile acidity  citric acid  residual sugar  \\\n",
       "0  white            7.0              0.27         0.36            20.7   \n",
       "1  white            6.3              0.30         0.34             1.6   \n",
       "2  white            8.1              0.28         0.40             6.9   \n",
       "3  white            7.2              0.23         0.32             8.5   \n",
       "4  white            7.2              0.23         0.32             8.5   \n",
       "\n",
       "   chlorides  free sulfur dioxide  total sulfur dioxide  density    pH  \\\n",
       "0      0.045                 45.0                 170.0   1.0010  3.00   \n",
       "1      0.049                 14.0                 132.0   0.9940  3.30   \n",
       "2      0.050                 30.0                  97.0   0.9951  3.26   \n",
       "3      0.058                 47.0                 186.0   0.9956  3.19   \n",
       "4      0.058                 47.0                 186.0   0.9956  3.19   \n",
       "\n",
       "   sulphates  alcohol  quality  \n",
       "0       0.45      8.8        6  \n",
       "1       0.49      9.5        6  \n",
       "2       0.44     10.1        6  \n",
       "3       0.40      9.9        6  \n",
       "4       0.40      9.9        6  "
      ]
     },
     "execution_count": 2,
     "metadata": {},
     "output_type": "execute_result"
    }
   ],
   "source": [
    "df = pd.read_csv(\"datasets/wine_quality.csv\")\n",
    "\n",
    "df.head()"
   ]
  },
  {
   "cell_type": "markdown",
   "metadata": {},
   "source": [
    "# Pulizia dei dati\n",
    "## Controllo e pulizia dei valori nulli\n",
    "Controlliamo la possibile presenza di valori nulli ed eventualmente eliminarli"
   ]
  },
  {
   "cell_type": "code",
   "execution_count": 3,
   "metadata": {},
   "outputs": [
    {
     "name": "stdout",
     "output_type": "stream",
     "text": [
      "type                     0\n",
      "fixed acidity           10\n",
      "volatile acidity         8\n",
      "citric acid              3\n",
      "residual sugar           2\n",
      "chlorides                2\n",
      "free sulfur dioxide      0\n",
      "total sulfur dioxide     0\n",
      "density                  0\n",
      "pH                       9\n",
      "sulphates                4\n",
      "alcohol                  0\n",
      "quality                  0\n",
      "dtype: int64\n"
     ]
    }
   ],
   "source": [
    "print(df.isnull().sum())"
   ]
  },
  {
   "cell_type": "code",
   "execution_count": 4,
   "metadata": {},
   "outputs": [
    {
     "data": {
      "text/plain": [
       "<matplotlib.axes._subplots.AxesSubplot at 0x157bb54a730>"
      ]
     },
     "execution_count": 4,
     "metadata": {},
     "output_type": "execute_result"
    },
    {
     "data": {
      "image/png": "[encoded data removed]",
      "text/plain": [
       "<Figure size 432x288 with 2 Axes>"
      ]
     },
     "metadata": {
      "needs_background": "light"
     },
     "output_type": "display_data"
    }
   ],
   "source": [
    "# elimina le righe che contengono valori nulli\n",
    "df.dropna(axis='index', how='any', inplace=True)\n",
    "\n",
    "# heatmap per valori nulli\n",
    "sns.heatmap(df.isnull())"
   ]
  },
  {
   "cell_type": "code",
   "execution_count": 5,
   "metadata": {},
   "outputs": [
    {
     "name": "stdout",
     "output_type": "stream",
     "text": [
      "Dimensione del dataset processato:  (6463, 13)\n"
     ]
    }
   ],
   "source": [
    "print('Dimensione del dataset processato: ', df.shape)"
   ]
  },
  {
   "cell_type": "markdown",
   "metadata": {},
   "source": [
    "### Rimozione delle tuple duplicate"
   ]
  },
  {
   "cell_type": "code",
   "execution_count": 6,
   "metadata": {},
   "outputs": [
    {
     "data": {
      "text/plain": [
       "(5295, 13)"
      ]
     },
     "execution_count": 6,
     "metadata": {},
     "output_type": "execute_result"
    }
   ],
   "source": [
    "df = df.drop_duplicates()\n",
    "df.reset_index()\n",
    "df.shape"
   ]
  },
  {
   "cell_type": "markdown",
   "metadata": {},
   "source": [
    "## Normalizzazione delle feature numeriche e categoriche\n",
    "Selezioniamo le features di interesse normalizziamo il dataset utilizzando la Normalizzazione Min-Max "
   ]
  },
  {
   "cell_type": "code",
   "execution_count": 7,
   "metadata": {},
   "outputs": [
    {
     "data": {
      "text/html": [
       "<div>\n",
       "<style scoped>\n",
       "    .dataframe tbody tr th:only-of-type {\n",
       "        vertical-align: middle;\n",
       "    }\n",
       "\n",
       "    .dataframe tbody tr th {\n",
       "        vertical-align: top;\n",
       "    }\n",
       "\n",
       "    .dataframe thead th {\n",
       "        text-align: right;\n",
       "    }\n",
       "</style>\n",
       "<table border=\"1\" class=\"dataframe\">\n",
       "  <thead>\n",
       "    <tr style=\"text-align: right;\">\n",
       "      <th></th>\n",
       "      <th>type</th>\n",
       "      <th>fixed acidity</th>\n",
       "      <th>volatile acidity</th>\n",
       "      <th>citric acid</th>\n",
       "      <th>residual sugar</th>\n",
       "      <th>chlorides</th>\n",
       "      <th>free sulfur dioxide</th>\n",
       "      <th>total sulfur dioxide</th>\n",
       "      <th>density</th>\n",
       "      <th>pH</th>\n",
       "      <th>sulphates</th>\n",
       "      <th>alcohol</th>\n",
       "      <th>quality</th>\n",
       "    </tr>\n",
       "  </thead>\n",
       "  <tbody>\n",
       "    <tr>\n",
       "      <th>0</th>\n",
       "      <td>white</td>\n",
       "      <td>0.264463</td>\n",
       "      <td>0.126667</td>\n",
       "      <td>0.216867</td>\n",
       "      <td>0.308282</td>\n",
       "      <td>0.059801</td>\n",
       "      <td>0.152778</td>\n",
       "      <td>0.377880</td>\n",
       "      <td>0.267785</td>\n",
       "      <td>0.217054</td>\n",
       "      <td>0.129213</td>\n",
       "      <td>0.115942</td>\n",
       "      <td>6</td>\n",
       "    </tr>\n",
       "    <tr>\n",
       "      <th>1</th>\n",
       "      <td>white</td>\n",
       "      <td>0.206612</td>\n",
       "      <td>0.146667</td>\n",
       "      <td>0.204819</td>\n",
       "      <td>0.015337</td>\n",
       "      <td>0.066445</td>\n",
       "      <td>0.045139</td>\n",
       "      <td>0.290323</td>\n",
       "      <td>0.132832</td>\n",
       "      <td>0.449612</td>\n",
       "      <td>0.151685</td>\n",
       "      <td>0.217391</td>\n",
       "      <td>6</td>\n",
       "    </tr>\n",
       "    <tr>\n",
       "      <th>2</th>\n",
       "      <td>white</td>\n",
       "      <td>0.355372</td>\n",
       "      <td>0.133333</td>\n",
       "      <td>0.240964</td>\n",
       "      <td>0.096626</td>\n",
       "      <td>0.068106</td>\n",
       "      <td>0.100694</td>\n",
       "      <td>0.209677</td>\n",
       "      <td>0.154039</td>\n",
       "      <td>0.418605</td>\n",
       "      <td>0.123596</td>\n",
       "      <td>0.304348</td>\n",
       "      <td>6</td>\n",
       "    </tr>\n",
       "    <tr>\n",
       "      <th>3</th>\n",
       "      <td>white</td>\n",
       "      <td>0.280992</td>\n",
       "      <td>0.100000</td>\n",
       "      <td>0.192771</td>\n",
       "      <td>0.121166</td>\n",
       "      <td>0.081395</td>\n",
       "      <td>0.159722</td>\n",
       "      <td>0.414747</td>\n",
       "      <td>0.163678</td>\n",
       "      <td>0.364341</td>\n",
       "      <td>0.101124</td>\n",
       "      <td>0.275362</td>\n",
       "      <td>6</td>\n",
       "    </tr>\n",
       "    <tr>\n",
       "      <th>6</th>\n",
       "      <td>white</td>\n",
       "      <td>0.198347</td>\n",
       "      <td>0.160000</td>\n",
       "      <td>0.096386</td>\n",
       "      <td>0.098160</td>\n",
       "      <td>0.059801</td>\n",
       "      <td>0.100694</td>\n",
       "      <td>0.299539</td>\n",
       "      <td>0.150183</td>\n",
       "      <td>0.356589</td>\n",
       "      <td>0.140449</td>\n",
       "      <td>0.231884</td>\n",
       "      <td>6</td>\n",
       "    </tr>\n",
       "  </tbody>\n",
       "</table>\n",
       "</div>"
      ],
      "text/plain": [
       "    type  fixed acidity  volatile acidity  citric acid  residual sugar  \\\n",
       "0  white       0.264463          0.126667     0.216867        0.308282   \n",
       "1  white       0.206612          0.146667     0.204819        0.015337   \n",
       "2  white       0.355372          0.133333     0.240964        0.096626   \n",
       "3  white       0.280992          0.100000     0.192771        0.121166   \n",
       "6  white       0.198347          0.160000     0.096386        0.098160   \n",
       "\n",
       "   chlorides  free sulfur dioxide  total sulfur dioxide   density        pH  \\\n",
       "0   0.059801             0.152778              0.377880  0.267785  0.217054   \n",
       "1   0.066445             0.045139              0.290323  0.132832  0.449612   \n",
       "2   0.068106             0.100694              0.209677  0.154039  0.418605   \n",
       "3   0.081395             0.159722              0.414747  0.163678  0.364341   \n",
       "6   0.059801             0.100694              0.299539  0.150183  0.356589   \n",
       "\n",
       "   sulphates   alcohol  quality  \n",
       "0   0.129213  0.115942        6  \n",
       "1   0.151685  0.217391        6  \n",
       "2   0.123596  0.304348        6  \n",
       "3   0.101124  0.275362        6  \n",
       "6   0.140449  0.231884        6  "
      ]
     },
     "execution_count": 7,
     "metadata": {},
     "output_type": "execute_result"
    }
   ],
   "source": [
    "features = ['fixed acidity', 'volatile acidity', 'citric acid', 'residual sugar', 'chlorides', 'free sulfur dioxide', 'total sulfur dioxide', 'density', 'pH', 'sulphates', 'alcohol']\n",
    "\n",
    "for i in df[features]:\n",
    "    df[i] = (df[i] - df[i].min()) / (df[i].max() - df[i].min())\n",
    "\n",
    "df.head()"
   ]
  },
  {
   "cell_type": "markdown",
   "metadata": {},
   "source": [
    "Trasformiamo la classe 'type' in una feature numerica utilizzando il label encoding"
   ]
  },
  {
   "cell_type": "code",
   "execution_count": 8,
   "metadata": {},
   "outputs": [],
   "source": [
    "ord_enc = OrdinalEncoder()\n",
    "df[\"color\"] = ord_enc.fit_transform(df[[\"type\"]]) # assume 1 se bianco 0 se rosso"
   ]
  },
  {
   "cell_type": "markdown",
   "metadata": {},
   "source": [
    "Tracciamo una Heatmap per rappresentare la correlazione tra le features prese in considerazione"
   ]
  },
  {
   "cell_type": "code",
   "execution_count": 9,
   "metadata": {},
   "outputs": [
    {
     "data": {
      "text/plain": [
       "<matplotlib.axes._subplots.AxesSubplot at 0x157b5d7dcd0>"
      ]
     },
     "execution_count": 9,
     "metadata": {},
     "output_type": "execute_result"
    },
    {
     "data": {
      "image/png": "[encoded data removed]",
      "text/plain": [
       "<Figure size 720x720 with 2 Axes>"
      ]
     },
     "metadata": {
      "needs_background": "light"
     },
     "output_type": "display_data"
    }
   ],
   "source": [
    "plt.figure(figsize=(10,10))\n",
    "sns.heatmap(df[features].corr(), cbar=True, square=True, fmt = '.1f', annot = True, annot_kws={'size':8})"
   ]
  },
  {
   "cell_type": "markdown",
   "metadata": {},
   "source": [
    "### Quality Label\n",
    "Creiamo la quality label basata sulla già esistente colonna 'quality'\n",
    "\n",
    "- bad per un punteggio minore o uguale di 5\n",
    "- good per più di 5"
   ]
  },
  {
   "cell_type": "code",
   "execution_count": 10,
   "metadata": {},
   "outputs": [],
   "source": [
    "df['quality_label'] = df.quality.apply(lambda q: 'bad' if q <= 5 else 'good')"
   ]
  },
  {
   "cell_type": "markdown",
   "metadata": {},
   "source": [
    "## Distribuzione della classe quality"
   ]
  },
  {
   "cell_type": "markdown",
   "metadata": {},
   "source": [
    "Osserviamo la correlazione tra la qualità del vino e la percentuale alcolica"
   ]
  },
  {
   "cell_type": "code",
   "execution_count": 11,
   "metadata": {},
   "outputs": [
    {
     "data": {
      "text/plain": [
       "<matplotlib.axes._subplots.AxesSubplot at 0x157bc50c7f0>"
      ]
     },
     "execution_count": 11,
     "metadata": {},
     "output_type": "execute_result"
    },
    {
     "data": {
      "image/png": "[encoded data removed]",
      "text/plain": [
       "<Figure size 720x432 with 1 Axes>"
      ]
     },
     "metadata": {
      "needs_background": "light"
     },
     "output_type": "display_data"
    }
   ],
   "source": [
    "fig = plt.figure(figsize = (10,6))\n",
    "sns.barplot(x = 'quality', y = 'alcohol', data = df)"
   ]
  },
  {
   "cell_type": "code",
   "execution_count": 12,
   "metadata": {
    "scrolled": true
   },
   "outputs": [
    {
     "data": {
      "text/html": [
       "<div>\n",
       "<style scoped>\n",
       "    .dataframe tbody tr th:only-of-type {\n",
       "        vertical-align: middle;\n",
       "    }\n",
       "\n",
       "    .dataframe tbody tr th {\n",
       "        vertical-align: top;\n",
       "    }\n",
       "\n",
       "    .dataframe thead th {\n",
       "        text-align: right;\n",
       "    }\n",
       "</style>\n",
       "<table border=\"1\" class=\"dataframe\">\n",
       "  <thead>\n",
       "    <tr style=\"text-align: right;\">\n",
       "      <th></th>\n",
       "      <th>type</th>\n",
       "      <th>fixed acidity</th>\n",
       "      <th>volatile acidity</th>\n",
       "      <th>citric acid</th>\n",
       "      <th>residual sugar</th>\n",
       "      <th>chlorides</th>\n",
       "      <th>free sulfur dioxide</th>\n",
       "      <th>total sulfur dioxide</th>\n",
       "      <th>density</th>\n",
       "      <th>pH</th>\n",
       "      <th>sulphates</th>\n",
       "      <th>alcohol</th>\n",
       "      <th>quality</th>\n",
       "      <th>color</th>\n",
       "      <th>quality_label</th>\n",
       "    </tr>\n",
       "  </thead>\n",
       "  <tbody>\n",
       "    <tr>\n",
       "      <th>0</th>\n",
       "      <td>white</td>\n",
       "      <td>0.264463</td>\n",
       "      <td>0.126667</td>\n",
       "      <td>0.216867</td>\n",
       "      <td>0.308282</td>\n",
       "      <td>0.059801</td>\n",
       "      <td>0.152778</td>\n",
       "      <td>0.377880</td>\n",
       "      <td>0.267785</td>\n",
       "      <td>0.217054</td>\n",
       "      <td>0.129213</td>\n",
       "      <td>0.115942</td>\n",
       "      <td>6</td>\n",
       "      <td>1.0</td>\n",
       "      <td>good</td>\n",
       "    </tr>\n",
       "    <tr>\n",
       "      <th>1</th>\n",
       "      <td>white</td>\n",
       "      <td>0.206612</td>\n",
       "      <td>0.146667</td>\n",
       "      <td>0.204819</td>\n",
       "      <td>0.015337</td>\n",
       "      <td>0.066445</td>\n",
       "      <td>0.045139</td>\n",
       "      <td>0.290323</td>\n",
       "      <td>0.132832</td>\n",
       "      <td>0.449612</td>\n",
       "      <td>0.151685</td>\n",
       "      <td>0.217391</td>\n",
       "      <td>6</td>\n",
       "      <td>1.0</td>\n",
       "      <td>good</td>\n",
       "    </tr>\n",
       "    <tr>\n",
       "      <th>2</th>\n",
       "      <td>white</td>\n",
       "      <td>0.355372</td>\n",
       "      <td>0.133333</td>\n",
       "      <td>0.240964</td>\n",
       "      <td>0.096626</td>\n",
       "      <td>0.068106</td>\n",
       "      <td>0.100694</td>\n",
       "      <td>0.209677</td>\n",
       "      <td>0.154039</td>\n",
       "      <td>0.418605</td>\n",
       "      <td>0.123596</td>\n",
       "      <td>0.304348</td>\n",
       "      <td>6</td>\n",
       "      <td>1.0</td>\n",
       "      <td>good</td>\n",
       "    </tr>\n",
       "    <tr>\n",
       "      <th>3</th>\n",
       "      <td>white</td>\n",
       "      <td>0.280992</td>\n",
       "      <td>0.100000</td>\n",
       "      <td>0.192771</td>\n",
       "      <td>0.121166</td>\n",
       "      <td>0.081395</td>\n",
       "      <td>0.159722</td>\n",
       "      <td>0.414747</td>\n",
       "      <td>0.163678</td>\n",
       "      <td>0.364341</td>\n",
       "      <td>0.101124</td>\n",
       "      <td>0.275362</td>\n",
       "      <td>6</td>\n",
       "      <td>1.0</td>\n",
       "      <td>good</td>\n",
       "    </tr>\n",
       "    <tr>\n",
       "      <th>6</th>\n",
       "      <td>white</td>\n",
       "      <td>0.198347</td>\n",
       "      <td>0.160000</td>\n",
       "      <td>0.096386</td>\n",
       "      <td>0.098160</td>\n",
       "      <td>0.059801</td>\n",
       "      <td>0.100694</td>\n",
       "      <td>0.299539</td>\n",
       "      <td>0.150183</td>\n",
       "      <td>0.356589</td>\n",
       "      <td>0.140449</td>\n",
       "      <td>0.231884</td>\n",
       "      <td>6</td>\n",
       "      <td>1.0</td>\n",
       "      <td>good</td>\n",
       "    </tr>\n",
       "  </tbody>\n",
       "</table>\n",
       "</div>"
      ],
      "text/plain": [
       "    type  fixed acidity  volatile acidity  citric acid  residual sugar  \\\n",
       "0  white       0.264463          0.126667     0.216867        0.308282   \n",
       "1  white       0.206612          0.146667     0.204819        0.015337   \n",
       "2  white       0.355372          0.133333     0.240964        0.096626   \n",
       "3  white       0.280992          0.100000     0.192771        0.121166   \n",
       "6  white       0.198347          0.160000     0.096386        0.098160   \n",
       "\n",
       "   chlorides  free sulfur dioxide  total sulfur dioxide   density        pH  \\\n",
       "0   0.059801             0.152778              0.377880  0.267785  0.217054   \n",
       "1   0.066445             0.045139              0.290323  0.132832  0.449612   \n",
       "2   0.068106             0.100694              0.209677  0.154039  0.418605   \n",
       "3   0.081395             0.159722              0.414747  0.163678  0.364341   \n",
       "6   0.059801             0.100694              0.299539  0.150183  0.356589   \n",
       "\n",
       "   sulphates   alcohol  quality  color quality_label  \n",
       "0   0.129213  0.115942        6    1.0          good  \n",
       "1   0.151685  0.217391        6    1.0          good  \n",
       "2   0.123596  0.304348        6    1.0          good  \n",
       "3   0.101124  0.275362        6    1.0          good  \n",
       "6   0.140449  0.231884        6    1.0          good  "
      ]
     },
     "execution_count": 12,
     "metadata": {},
     "output_type": "execute_result"
    }
   ],
   "source": [
    "df.head()"
   ]
  },
  {
   "cell_type": "markdown",
   "metadata": {},
   "source": [
    "Utilizziamo la classe LabelEncoder per poter convertire la colonna  'quality_label' in feature numerica"
   ]
  },
  {
   "cell_type": "code",
   "execution_count": 13,
   "metadata": {},
   "outputs": [
    {
     "data": {
      "text/html": [
       "<div>\n",
       "<style scoped>\n",
       "    .dataframe tbody tr th:only-of-type {\n",
       "        vertical-align: middle;\n",
       "    }\n",
       "\n",
       "    .dataframe tbody tr th {\n",
       "        vertical-align: top;\n",
       "    }\n",
       "\n",
       "    .dataframe thead th {\n",
       "        text-align: right;\n",
       "    }\n",
       "</style>\n",
       "<table border=\"1\" class=\"dataframe\">\n",
       "  <thead>\n",
       "    <tr style=\"text-align: right;\">\n",
       "      <th></th>\n",
       "      <th>type</th>\n",
       "      <th>fixed acidity</th>\n",
       "      <th>volatile acidity</th>\n",
       "      <th>citric acid</th>\n",
       "      <th>residual sugar</th>\n",
       "      <th>chlorides</th>\n",
       "      <th>free sulfur dioxide</th>\n",
       "      <th>total sulfur dioxide</th>\n",
       "      <th>density</th>\n",
       "      <th>pH</th>\n",
       "      <th>sulphates</th>\n",
       "      <th>alcohol</th>\n",
       "      <th>quality</th>\n",
       "      <th>color</th>\n",
       "      <th>quality_label</th>\n",
       "    </tr>\n",
       "  </thead>\n",
       "  <tbody>\n",
       "    <tr>\n",
       "      <th>0</th>\n",
       "      <td>white</td>\n",
       "      <td>0.264463</td>\n",
       "      <td>0.126667</td>\n",
       "      <td>0.216867</td>\n",
       "      <td>0.308282</td>\n",
       "      <td>0.059801</td>\n",
       "      <td>0.152778</td>\n",
       "      <td>0.377880</td>\n",
       "      <td>0.267785</td>\n",
       "      <td>0.217054</td>\n",
       "      <td>0.129213</td>\n",
       "      <td>0.115942</td>\n",
       "      <td>6</td>\n",
       "      <td>1.0</td>\n",
       "      <td>1.0</td>\n",
       "    </tr>\n",
       "    <tr>\n",
       "      <th>1</th>\n",
       "      <td>white</td>\n",
       "      <td>0.206612</td>\n",
       "      <td>0.146667</td>\n",
       "      <td>0.204819</td>\n",
       "      <td>0.015337</td>\n",
       "      <td>0.066445</td>\n",
       "      <td>0.045139</td>\n",
       "      <td>0.290323</td>\n",
       "      <td>0.132832</td>\n",
       "      <td>0.449612</td>\n",
       "      <td>0.151685</td>\n",
       "      <td>0.217391</td>\n",
       "      <td>6</td>\n",
       "      <td>1.0</td>\n",
       "      <td>1.0</td>\n",
       "    </tr>\n",
       "    <tr>\n",
       "      <th>2</th>\n",
       "      <td>white</td>\n",
       "      <td>0.355372</td>\n",
       "      <td>0.133333</td>\n",
       "      <td>0.240964</td>\n",
       "      <td>0.096626</td>\n",
       "      <td>0.068106</td>\n",
       "      <td>0.100694</td>\n",
       "      <td>0.209677</td>\n",
       "      <td>0.154039</td>\n",
       "      <td>0.418605</td>\n",
       "      <td>0.123596</td>\n",
       "      <td>0.304348</td>\n",
       "      <td>6</td>\n",
       "      <td>1.0</td>\n",
       "      <td>1.0</td>\n",
       "    </tr>\n",
       "    <tr>\n",
       "      <th>3</th>\n",
       "      <td>white</td>\n",
       "      <td>0.280992</td>\n",
       "      <td>0.100000</td>\n",
       "      <td>0.192771</td>\n",
       "      <td>0.121166</td>\n",
       "      <td>0.081395</td>\n",
       "      <td>0.159722</td>\n",
       "      <td>0.414747</td>\n",
       "      <td>0.163678</td>\n",
       "      <td>0.364341</td>\n",
       "      <td>0.101124</td>\n",
       "      <td>0.275362</td>\n",
       "      <td>6</td>\n",
       "      <td>1.0</td>\n",
       "      <td>1.0</td>\n",
       "    </tr>\n",
       "    <tr>\n",
       "      <th>6</th>\n",
       "      <td>white</td>\n",
       "      <td>0.198347</td>\n",
       "      <td>0.160000</td>\n",
       "      <td>0.096386</td>\n",
       "      <td>0.098160</td>\n",
       "      <td>0.059801</td>\n",
       "      <td>0.100694</td>\n",
       "      <td>0.299539</td>\n",
       "      <td>0.150183</td>\n",
       "      <td>0.356589</td>\n",
       "      <td>0.140449</td>\n",
       "      <td>0.231884</td>\n",
       "      <td>6</td>\n",
       "      <td>1.0</td>\n",
       "      <td>1.0</td>\n",
       "    </tr>\n",
       "  </tbody>\n",
       "</table>\n",
       "</div>"
      ],
      "text/plain": [
       "    type  fixed acidity  volatile acidity  citric acid  residual sugar  \\\n",
       "0  white       0.264463          0.126667     0.216867        0.308282   \n",
       "1  white       0.206612          0.146667     0.204819        0.015337   \n",
       "2  white       0.355372          0.133333     0.240964        0.096626   \n",
       "3  white       0.280992          0.100000     0.192771        0.121166   \n",
       "6  white       0.198347          0.160000     0.096386        0.098160   \n",
       "\n",
       "   chlorides  free sulfur dioxide  total sulfur dioxide   density        pH  \\\n",
       "0   0.059801             0.152778              0.377880  0.267785  0.217054   \n",
       "1   0.066445             0.045139              0.290323  0.132832  0.449612   \n",
       "2   0.068106             0.100694              0.209677  0.154039  0.418605   \n",
       "3   0.081395             0.159722              0.414747  0.163678  0.364341   \n",
       "6   0.059801             0.100694              0.299539  0.150183  0.356589   \n",
       "\n",
       "   sulphates   alcohol  quality  color  quality_label  \n",
       "0   0.129213  0.115942        6    1.0            1.0  \n",
       "1   0.151685  0.217391        6    1.0            1.0  \n",
       "2   0.123596  0.304348        6    1.0            1.0  \n",
       "3   0.101124  0.275362        6    1.0            1.0  \n",
       "6   0.140449  0.231884        6    1.0            1.0  "
      ]
     },
     "execution_count": 13,
     "metadata": {},
     "output_type": "execute_result"
    }
   ],
   "source": [
    "ord_enc = OrdinalEncoder()\n",
    "df[\"quality_label\"] = ord_enc.fit_transform(df[[\"quality_label\"]]) # assume 1 se bianco 0 se rosso\n",
    "df.head()"
   ]
  },
  {
   "cell_type": "markdown",
   "metadata": {},
   "source": [
    "# Costruzione dei modelli & Addestramento\n",
    "## Preparazione del dataset\n",
    "Prenderemo come target la colonna 'color' per una maggiore accuratezza. Avendo già convertito questo attributo categorico utilizzando la classe LabelEncoder, possiamo procedere alla costruzione dei vari modelli di classificazione ed addestramento."
   ]
  },
  {
   "cell_type": "code",
   "execution_count": 14,
   "metadata": {
    "scrolled": true
   },
   "outputs": [
    {
     "name": "stdout",
     "output_type": "stream",
     "text": [
      "1.0    3942\n",
      "0.0    1353\n",
      "Name: color, dtype: int64\n"
     ]
    }
   ],
   "source": [
    "print(df['color'].value_counts())"
   ]
  },
  {
   "cell_type": "markdown",
   "metadata": {},
   "source": [
    "## Divisione del dataset"
   ]
  },
  {
   "cell_type": "markdown",
   "metadata": {},
   "source": [
    "Dividiamo ora il dataset in train e test considerando soltanto le feature che hanno più importanza, come ad esempio il pH, lo zucchero residuo e la densità. Così facendo viene ridotta la complessità dei vari modelli."
   ]
  },
  {
   "cell_type": "code",
   "execution_count": 15,
   "metadata": {},
   "outputs": [],
   "source": [
    "X = df.drop(['type','quality_label','quality','pH','residual sugar','density'], axis = 1)\n",
    "y = df['quality_label']\n",
    "\n",
    "X_train, X_test, y_train, y_test = train_test_split(X, y, test_size = 0.2,random_state = 11)"
   ]
  },
  {
   "cell_type": "markdown",
   "metadata": {},
   "source": [
    "## Modello Lineare\n",
    "Come primo modello utilizziamo la regressione lineare, che è un modello lineare per la classificazione piuttosto che la regressione"
   ]
  },
  {
   "cell_type": "code",
   "execution_count": 16,
   "metadata": {},
   "outputs": [
    {
     "name": "stdout",
     "output_type": "stream",
     "text": [
      "[-0.0847079  -1.19593031 -0.032037   -0.26259317  1.01188511 -0.4997702\n",
      "  0.59276381  1.05325743 -0.03370447]\n"
     ]
    }
   ],
   "source": [
    "regr = linear_model.LinearRegression()\n",
    "regr.fit(X_train, y_train)\n",
    "\n",
    "y_pred = regr.predict(X_test)\n",
    "\n",
    "#Calcolo il coefficiente angolare\n",
    "print(regr.coef_)"
   ]
  },
  {
   "cell_type": "code",
   "execution_count": 17,
   "metadata": {},
   "outputs": [
    {
     "data": {
      "text/plain": [
       "0.24364222559243742"
      ]
     },
     "execution_count": 17,
     "metadata": {},
     "output_type": "execute_result"
    }
   ],
   "source": [
    "#Questo è il valore di R^2\n",
    "regr.score(X_train, y_train)"
   ]
  },
  {
   "cell_type": "code",
   "execution_count": 18,
   "metadata": {
    "scrolled": true
   },
   "outputs": [
    {
     "data": {
      "text/plain": [
       "<matplotlib.axes._subplots.AxesSubplot at 0x157bc763430>"
      ]
     },
     "execution_count": 18,
     "metadata": {},
     "output_type": "execute_result"
    },
    {
     "data": {
      "image/png": "[encoded data removed]",
      "text/plain": [
       "<Figure size 432x288 with 1 Axes>"
      ]
     },
     "metadata": {
      "needs_background": "light"
     },
     "output_type": "display_data"
    }
   ],
   "source": [
    "df.plot.scatter(x = 'quality', y = 'alcohol')\n"
   ]
  },
  {
   "cell_type": "code",
   "execution_count": 19,
   "metadata": {},
   "outputs": [
    {
     "name": "stdout",
     "output_type": "stream",
     "text": [
      "Mean Squared Error: 0.16569431752459413\n",
      "R-squared Score: 0.2854719264804073\n"
     ]
    }
   ],
   "source": [
    "# Valutiamo le prestazioni del modello e visualizziamo i risultati\n",
    "mse = mean_squared_error(y_test, y_pred)\n",
    "r2 = r2_score(y_test, y_pred)\n",
    "\n",
    "print(\"Mean Squared Error:\", mse)\n",
    "print(\"R-squared Score:\", r2)"
   ]
  },
  {
   "cell_type": "markdown",
   "metadata": {},
   "source": [
    "## Naive Bayes\n",
    "Tramite questo classificatore possiamo calcolare la probabilità che un determinato evento avvenga all'interno del dataset. La costruzione del classificatore avviene nel seguente modo: si crea un oggetto della classe GaussianNB e successivamente viene chiamato il metodo fit, specificando come argomenti le osservazioni e le corrispondenti etichette. Infine invochiamo il metodo predict passando come argomento una lista di oggetti da classificare.\n",
    "\n",
    "Creiamo un pipeline dove vengono svolte in maniere consequenziale le seguenti azioni:\n",
    "\n",
    "- SMOTE un'operazione di l'oversampling sul set di training\n",
    "- Scaler un'operazione di normalizzazione\n",
    "- Classifier è il modello che verrà utilizzito per l'apprendimento, in questo caso Naive Bayes"
   ]
  },
  {
   "cell_type": "code",
   "execution_count": 20,
   "metadata": {},
   "outputs": [],
   "source": [
    "pipeline = imbpipeline(steps = [['smote', SMOTE(random_state=5)],\n",
    "                                ['scaler', MinMaxScaler()],\n",
    "                                ['classifier', GaussianNB()]]) "
   ]
  },
  {
   "cell_type": "code",
   "execution_count": 21,
   "metadata": {},
   "outputs": [],
   "source": [
    "stratified_kfold = StratifiedKFold(n_splits=3,\n",
    "                                       shuffle=True,\n",
    "                                       random_state=5)"
   ]
  },
  {
   "cell_type": "code",
   "execution_count": 22,
   "metadata": {},
   "outputs": [
    {
     "name": "stdout",
     "output_type": "stream",
     "text": [
      "Fitting 3 folds for each of 1 candidates, totalling 3 fits\n"
     ]
    }
   ],
   "source": [
    "# in param_grid sono definiti gli iperparametri\n",
    "param_grid = {}\n",
    "\n",
    "grid_search = GridSearchCV(estimator=pipeline,\n",
    "                           param_grid=param_grid,\n",
    "                           scoring='accuracy',\n",
    "                           cv=stratified_kfold,\n",
    "                           verbose = 1,\n",
    "                           n_jobs=-1) # utilizzerà tutti i processori disponibili\n",
    "# troviamo il modello migliore\n",
    "grid_search.fit(X_train, y_train.values.ravel())\n",
    "\n",
    "cv_score = grid_search.best_score_\n",
    "\n",
    "# effetuamo la predizione sul set di test\n",
    "y_test_predict = grid_search.predict(X_test)"
   ]
  },
  {
   "cell_type": "code",
   "execution_count": 23,
   "metadata": {},
   "outputs": [
    {
     "name": "stdout",
     "output_type": "stream",
     "text": [
      "accuracy: 0.7393767705382436\n",
      "precision: 0.7189621950749547\n",
      "recall: 0.7184789128829826\n",
      "f1: 0.7187175203442939\n",
      "matthews_corrcoef: 0.43744084099428887\n",
      "geometric_mean_score: 0.7184789128829826\n"
     ]
    },
    {
     "data": {
      "text/plain": [
       "[]"
      ]
     },
     "execution_count": 23,
     "metadata": {},
     "output_type": "execute_result"
    },
    {
     "data": {
      "image/png": "[encoded data removed]",
      "text/plain": [
       "<Figure size 432x288 with 2 Axes>"
      ]
     },
     "metadata": {
      "needs_background": "light"
     },
     "output_type": "display_data"
    }
   ],
   "source": [
    "# calcoliamo le metriche di valutazione\n",
    "accuracy = accuracy_score(y_test, y_test_predict)\n",
    "precision = precision_score(y_test, y_test_predict, average='macro')\n",
    "recall = recall_score(y_test, y_test_predict, average='macro')\n",
    "f1 = f1_score(y_test, y_test_predict, average='macro')\n",
    "mcc = matthews_corrcoef(y_test, y_test_predict)\n",
    "gm = geometric_mean_score(y_test, y_test_predict, average='macro')\n",
    "ConfusionMatrixDisplay.from_predictions(y_test, \n",
    "                                        y_test_predict, \n",
    "                                        cmap=plt.cm.Blues)\n",
    "\n",
    "print(f'accuracy: {accuracy}')\n",
    "print(f'precision: {precision}')\n",
    "print(f'recall: {recall}')\n",
    "print(f'f1: {f1}')\n",
    "print(f'matthews_corrcoef: {mcc}')\n",
    "print(f'geometric_mean_score: {gm}')\n",
    "\n",
    "plt.plot()"
   ]
  },
  {
   "cell_type": "code",
   "execution_count": 24,
   "metadata": {},
   "outputs": [],
   "source": [
    "scoring_list = []\n",
    "scoring_list.append(dict([\n",
    "    ('Model', 'Naive Bayes'),\n",
    "    ('Train Accuracy', round(cv_score, 3)),\n",
    "    ('Test Accuracy', round(accuracy, 3)),\n",
    "    ('Precision', round(precision, 3)),\n",
    "    ('Recall', round(recall, 3)),\n",
    "    ('F1', round(f1, 3)),\n",
    "    ('Matthews Corrcoef', round(mcc,3)),\n",
    "    ('Geometric Mean Score', round(gm, 3))\n",
    "     ]))"
   ]
  },
  {
   "cell_type": "markdown",
   "metadata": {},
   "source": [
    "## Random Forest\n",
    "Useremo il Random Forest della libreria scikit-learn, che calcola la media della previsione probabilistica di tutti gli alberi nella foresta per la previsione finale invece di prendere i voti di previsione effettivi e quindi calcolarne la media"
   ]
  },
  {
   "cell_type": "code",
   "execution_count": 25,
   "metadata": {},
   "outputs": [],
   "source": [
    "pipeline = imbpipeline(steps = [['smote', SMOTE(random_state=11)],\n",
    "                                ['scaler', MinMaxScaler()],\n",
    "                                ['classifier', RandomForestClassifier(max_depth=12, random_state=11)]])"
   ]
  },
  {
   "cell_type": "code",
   "execution_count": 26,
   "metadata": {},
   "outputs": [],
   "source": [
    "stratified_kfold = StratifiedKFold(n_splits=3,\n",
    "                                       shuffle=True,\n",
    "                                       random_state=11)"
   ]
  },
  {
   "cell_type": "markdown",
   "metadata": {},
   "source": [
    "### Parameter Tuning"
   ]
  },
  {
   "cell_type": "code",
   "execution_count": 27,
   "metadata": {},
   "outputs": [],
   "source": [
    "# in param_grid sono definiti gli iperparametri\n",
    "param_grid = {\n",
    "                'n_estimators': [50,100, 200],\n",
    "                'max_depth': [6,10, 12]\n",
    "                }\n",
    "\n",
    "new_params = {'classifier__' + key: param_grid[key] for key in param_grid}\n",
    "\n",
    "grid_search = GridSearchCV(estimator=pipeline,\n",
    "                           param_grid=new_params,\n",
    "                           scoring='accuracy',\n",
    "                           cv=stratified_kfold,\n",
    "                           verbose = 5,\n",
    "                           n_jobs=-1) # utilizzerà tutti i processori disponibili"
   ]
  },
  {
   "cell_type": "markdown",
   "metadata": {},
   "source": [
    "### Ricerca dei parametri migliori"
   ]
  },
  {
   "cell_type": "code",
   "execution_count": 28,
   "metadata": {},
   "outputs": [
    {
     "name": "stdout",
     "output_type": "stream",
     "text": [
      "Fitting 3 folds for each of 9 candidates, totalling 27 fits\n",
      "Best parameters: {'classifier__max_depth': 12, 'classifier__n_estimators': 50}\n",
      "Cross-validation score: 0.752360717658168\n"
     ]
    }
   ],
   "source": [
    "# troviamo il modello migliore\n",
    "grid_search.fit(X_train, y_train.values.ravel())\n",
    "\n",
    "cv_score = grid_search.best_score_\n",
    "best_params = grid_search.best_params_\n",
    "\n",
    "print(f'Best parameters: {best_params}')\n",
    "print(f'Cross-validation score: {cv_score}')\n",
    "\n",
    "# effetuamo la predizione sul set di test\n",
    "y_test_predict = grid_search.predict(X_test)"
   ]
  },
  {
   "cell_type": "code",
   "execution_count": 29,
   "metadata": {},
   "outputs": [
    {
     "name": "stdout",
     "output_type": "stream",
     "text": [
      "accuracy: 0.7780925401322002\n",
      "precision: 0.763039301245994\n",
      "recall: 0.7758340254706534\n",
      "f1: 0.7671070325974354\n",
      "matthews_corrcoef: 0.5387214097088415\n",
      "geometric_mean_score: 0.7758340254706534\n"
     ]
    },
    {
     "data": {
      "text/plain": [
       "[]"
      ]
     },
     "execution_count": 29,
     "metadata": {},
     "output_type": "execute_result"
    },
    {
     "data": {
      "image/png": "[encoded data removed]",
      "text/plain": [
       "<Figure size 432x288 with 2 Axes>"
      ]
     },
     "metadata": {
      "needs_background": "light"
     },
     "output_type": "display_data"
    }
   ],
   "source": [
    "# calcoliamo le metriche di valutazione\n",
    "accuracy = accuracy_score(y_test, y_test_predict)\n",
    "precision = precision_score(y_test, y_test_predict, average='macro')\n",
    "recall = recall_score(y_test, y_test_predict, average='macro')\n",
    "f1 = f1_score(y_test, y_test_predict, average='macro')\n",
    "mcc = matthews_corrcoef(y_test, y_test_predict)\n",
    "gm = geometric_mean_score(y_test, y_test_predict, average='macro')\n",
    "ConfusionMatrixDisplay.from_predictions(y_test, \n",
    "                                        y_test_predict, \n",
    "                                        cmap=plt.cm.Blues)\n",
    "\n",
    "print(f'accuracy: {accuracy}')\n",
    "print(f'precision: {precision}')\n",
    "print(f'recall: {recall}')\n",
    "print(f'f1: {f1}')\n",
    "print(f'matthews_corrcoef: {mcc}')\n",
    "print(f'geometric_mean_score: {gm}')\n",
    "\n",
    "plt.plot()"
   ]
  },
  {
   "cell_type": "code",
   "execution_count": 30,
   "metadata": {},
   "outputs": [],
   "source": [
    "scoring_list.append(dict([\n",
    "    ('Model', 'RandomForest'),\n",
    "    ('Train Accuracy', round(cv_score, 3)),\n",
    "    ('Test Accuracy', round(accuracy, 3)),\n",
    "    ('Precision', round(precision, 3)),\n",
    "    ('Recall', round(recall, 3)),\n",
    "    ('F1', round(f1, 3)),\n",
    "    ('Matthews Corrcoef', round(mcc,3)),\n",
    "    ('Geometric Mean Score', round(gm, 3))\n",
    "     ]))"
   ]
  },
  {
   "cell_type": "markdown",
   "metadata": {},
   "source": [
    "## KNN"
   ]
  },
  {
   "cell_type": "code",
   "execution_count": 31,
   "metadata": {},
   "outputs": [],
   "source": [
    "pipeline = imbpipeline(steps = [['smote', SMOTE(random_state=11)],\n",
    "                                ['scaler', MinMaxScaler()],\n",
    "                                ['classifier',KNeighborsClassifier()]]) "
   ]
  },
  {
   "cell_type": "code",
   "execution_count": 32,
   "metadata": {},
   "outputs": [],
   "source": [
    "stratified_kfold = StratifiedKFold(n_splits=3,\n",
    "                                       shuffle=True,\n",
    "                                       random_state=11)"
   ]
  },
  {
   "cell_type": "markdown",
   "metadata": {},
   "source": [
    "### Ricerca dei parametri migliori"
   ]
  },
  {
   "cell_type": "code",
   "execution_count": 33,
   "metadata": {},
   "outputs": [],
   "source": [
    "# in param_grid sono definiti gli iperparametri\n",
    "param_grid = {\n",
    "         'n_neighbors': [10, 11, 12, 13] ,\n",
    "         'weights': ['distance'],\n",
    "         'algorithm' : ['ball_tree'], #, 'brute', 'auto',  'kd_tree', 'ball_tree']\n",
    "         'leaf_size': [12, 11, 13],\n",
    "         'p': [1]\n",
    "}\n",
    "\n",
    "\n",
    "new_params = {'classifier__' + key: param_grid[key] for key in param_grid}\n",
    "\n",
    "grid_search = GridSearchCV(estimator=pipeline,\n",
    "                           param_grid=new_params,\n",
    "                           scoring='accuracy',\n",
    "                           cv=stratified_kfold,\n",
    "                           verbose = 5,\n",
    "                           n_jobs=-1) # utilizzerà tutti i processori disponibili"
   ]
  },
  {
   "cell_type": "code",
   "execution_count": 34,
   "metadata": {},
   "outputs": [
    {
     "name": "stdout",
     "output_type": "stream",
     "text": [
      "Fitting 3 folds for each of 12 candidates, totalling 36 fits\n",
      "Best parameters: {'classifier__algorithm': 'ball_tree', 'classifier__leaf_size': 12, 'classifier__n_neighbors': 13, 'classifier__p': 1, 'classifier__weights': 'distance'}\n",
      "Cross-validation score: 0.7363078375826251\n"
     ]
    }
   ],
   "source": [
    "# troviamo il modello migliore\n",
    "grid_search.fit(X_train, y_train.values.ravel())\n",
    "\n",
    "cv_score = grid_search.best_score_\n",
    "best_params = grid_search.best_params_\n",
    "\n",
    "print(f'Best parameters: {best_params}')\n",
    "print(f'Cross-validation score: {cv_score}')\n",
    "\n",
    "# effetuamo la predizione sul set di test\n",
    "y_test_predict = grid_search.predict(X_test)"
   ]
  },
  {
   "cell_type": "code",
   "execution_count": 35,
   "metadata": {},
   "outputs": [
    {
     "name": "stdout",
     "output_type": "stream",
     "text": [
      "accuracy: 0.7582625118035883\n",
      "precision: 0.7473524389980333\n",
      "recall: 0.7640446197858989\n",
      "f1: 0.749778486620592\n",
      "matthews_corrcoef: 0.5111245668458929\n",
      "geometric_mean_score: 0.7640446197858989\n"
     ]
    },
    {
     "data": {
      "text/plain": [
       "[]"
      ]
     },
     "execution_count": 35,
     "metadata": {},
     "output_type": "execute_result"
    },
    {
     "data": {
      "image/png": "[encoded data removed]",
      "text/plain": [
       "<Figure size 432x288 with 2 Axes>"
      ]
     },
     "metadata": {
      "needs_background": "light"
     },
     "output_type": "display_data"
    }
   ],
   "source": [
    "# calcoliamo le metriche di valutazione\n",
    "accuracy = accuracy_score(y_test, y_test_predict)\n",
    "precision = precision_score(y_test, y_test_predict, average='macro')\n",
    "recall = recall_score(y_test, y_test_predict, average='macro')\n",
    "f1 = f1_score(y_test, y_test_predict, average='macro')\n",
    "mcc = matthews_corrcoef(y_test, y_test_predict)\n",
    "gm = geometric_mean_score(y_test, y_test_predict, average='macro')\n",
    "ConfusionMatrixDisplay.from_predictions(y_test, \n",
    "                                        y_test_predict, \n",
    "                                        cmap=plt.cm.Blues)\n",
    "\n",
    "print(f'accuracy: {accuracy}')\n",
    "print(f'precision: {precision}')\n",
    "print(f'recall: {recall}')\n",
    "print(f'f1: {f1}')\n",
    "print(f'matthews_corrcoef: {mcc}')\n",
    "print(f'geometric_mean_score: {gm}')\n",
    "\n",
    "plt.plot()"
   ]
  },
  {
   "cell_type": "code",
   "execution_count": 36,
   "metadata": {},
   "outputs": [],
   "source": [
    "scoring_list.append(dict([\n",
    "    ('Model', 'KNN'),\n",
    "    ('Train Accuracy', round(cv_score, 3)),\n",
    "    ('Test Accuracy', round(accuracy, 3)),\n",
    "    ('Precision', round(precision, 3)),\n",
    "    ('Recall', round(recall, 3)),\n",
    "    ('F1', round(f1, 3)),\n",
    "    ('Matthews Corrcoef', round(mcc,3)),\n",
    "    ('Geometric Mean Score', round(gm, 3))\n",
    "     ]))"
   ]
  },
  {
   "cell_type": "markdown",
   "metadata": {},
   "source": [
    "## Support Vector Machine"
   ]
  },
  {
   "cell_type": "code",
   "execution_count": 37,
   "metadata": {},
   "outputs": [],
   "source": [
    "pipeline = imbpipeline(steps = [['smote', SMOTE(random_state=11)],\n",
    "                                ['scaler', MinMaxScaler()],\n",
    "                                ['classifier',SVC(kernel=None,\n",
    "                                                  gamma=None, \n",
    "                                                  C=None)]])\n",
    "stratified_kfold = StratifiedKFold(n_splits=3,\n",
    "                                       shuffle=True,\n",
    "                                       random_state=11)"
   ]
  },
  {
   "cell_type": "markdown",
   "metadata": {},
   "source": [
    "### Ricerca dei parametri migliori"
   ]
  },
  {
   "cell_type": "code",
   "execution_count": 38,
   "metadata": {},
   "outputs": [],
   "source": [
    "# in param_grid sono definiti gli iperparametri\n",
    "param_grid = {'C': [0.08, 0.1, 1, 10, 100], \n",
    "              'gamma': [1, 0.1, 0.01, 0.001, 0.0001],\n",
    "              'kernel': ['rbf'] # linear\n",
    "              }\n",
    "\n",
    "new_params = {'classifier__' + key: param_grid[key] for key in param_grid}\n",
    "\n",
    "grid_search = GridSearchCV(estimator=pipeline,\n",
    "                           param_grid=new_params,\n",
    "                           scoring='accuracy',\n",
    "                           cv=stratified_kfold,\n",
    "                           verbose = 5,\n",
    "                           n_jobs=-1) # utilizzerà tutti i processori disponibili"
   ]
  },
  {
   "cell_type": "code",
   "execution_count": 39,
   "metadata": {},
   "outputs": [
    {
     "name": "stdout",
     "output_type": "stream",
     "text": [
      "Fitting 3 folds for each of 25 candidates, totalling 75 fits\n",
      "Best parameters: {'classifier__C': 100, 'classifier__gamma': 1, 'classifier__kernel': 'rbf'}\n",
      "Cross-validation score: 0.7485835694050991\n"
     ]
    }
   ],
   "source": [
    "# troviamo il modello migliore\n",
    "grid_search.fit(X_train, y_train.values.ravel())\n",
    "\n",
    "cv_score = grid_search.best_score_\n",
    "best_params = grid_search.best_params_\n",
    "\n",
    "print(f'Best parameters: {best_params}')\n",
    "print(f'Cross-validation score: {cv_score}')\n",
    "\n",
    "# effetuamo la predizione sul set di test\n",
    "y_test_predict = grid_search.predict(X_test)"
   ]
  },
  {
   "cell_type": "code",
   "execution_count": 40,
   "metadata": {},
   "outputs": [
    {
     "name": "stdout",
     "output_type": "stream",
     "text": [
      "accuracy: 0.7478753541076487\n",
      "precision: 0.7415383349903796\n",
      "recall: 0.7596956902916205\n",
      "f1: 0.7412063727998198\n",
      "matthews_corrcoef: 0.5009050394524507\n",
      "geometric_mean_score: 0.7596956902916205\n"
     ]
    },
    {
     "data": {
      "text/plain": [
       "[]"
      ]
     },
     "execution_count": 40,
     "metadata": {},
     "output_type": "execute_result"
    },
    {
     "data": {
      "image/png": "[encoded data removed]",
      "text/plain": [
       "<Figure size 432x288 with 2 Axes>"
      ]
     },
     "metadata": {
      "needs_background": "light"
     },
     "output_type": "display_data"
    }
   ],
   "source": [
    "# calcoliamo le metriche di valutazione\n",
    "accuracy = accuracy_score(y_test, y_test_predict)\n",
    "precision = precision_score(y_test, y_test_predict, average='macro')\n",
    "recall = recall_score(y_test, y_test_predict, average='macro')\n",
    "f1 = f1_score(y_test, y_test_predict, average='macro')\n",
    "mcc = matthews_corrcoef(y_test, y_test_predict)\n",
    "gm = geometric_mean_score(y_test, y_test_predict, average='macro')\n",
    "ConfusionMatrixDisplay.from_predictions(y_test, \n",
    "                                        y_test_predict, \n",
    "                                        cmap=plt.cm.Blues)\n",
    "\n",
    "print(f'accuracy: {accuracy}')\n",
    "print(f'precision: {precision}')\n",
    "print(f'recall: {recall}')\n",
    "print(f'f1: {f1}')\n",
    "print(f'matthews_corrcoef: {mcc}')\n",
    "print(f'geometric_mean_score: {gm}')\n",
    "\n",
    "plt.plot()"
   ]
  },
  {
   "cell_type": "code",
   "execution_count": 41,
   "metadata": {},
   "outputs": [],
   "source": [
    "scoring_list.append(dict([\n",
    "    ('Model', 'SVM'),\n",
    "    ('Train Accuracy', round(cv_score, 3)),\n",
    "    ('Test Accuracy', round(accuracy, 3)),\n",
    "    ('Precision', round(precision, 3)),\n",
    "    ('Recall', round(recall, 3)),\n",
    "    ('F1', round(f1, 3)),\n",
    "    ('Matthews Corrcoef', round(mcc,3)),\n",
    "    ('Geometric Mean Score', round(gm, 3))\n",
    "     ]))"
   ]
  },
  {
   "cell_type": "markdown",
   "metadata": {},
   "source": [
    "# Confronto dei vari modelli"
   ]
  },
  {
   "cell_type": "code",
   "execution_count": 42,
   "metadata": {
    "scrolled": true
   },
   "outputs": [
    {
     "name": "stdout",
     "output_type": "stream",
     "text": [
      "          Model  Train Accuracy  Test Accuracy  Precision  Recall     F1  \\\n",
      "1  RandomForest           0.752          0.778      0.763   0.776  0.767   \n",
      "2           KNN           0.736          0.758      0.747   0.764  0.750   \n",
      "3           SVM           0.749          0.748      0.742   0.760  0.741   \n",
      "0   Naive Bayes           0.693          0.739      0.719   0.718  0.719   \n",
      "\n",
      "   Matthews Corrcoef  Geometric Mean Score  \n",
      "1              0.539                 0.776  \n",
      "2              0.511                 0.764  \n",
      "3              0.501                 0.760  \n",
      "0              0.437                 0.718  \n"
     ]
    }
   ],
   "source": [
    "results = pd.DataFrame(data=scoring_list)\n",
    "results = results[['Model',\n",
    "                   'Train Accuracy',\n",
    "                   'Test Accuracy',\n",
    "                   'Precision',\n",
    "                   'Recall',\n",
    "                   'F1',\n",
    "                   'Matthews Corrcoef',\n",
    "                   'Geometric Mean Score']]\n",
    "\n",
    "results = results.sort_values(by='Recall', ascending=False)\n",
    "\n",
    "print(results)"
   ]
  },
  {
   "cell_type": "code",
   "execution_count": 43,
   "metadata": {},
   "outputs": [
    {
     "data": {
      "image/png": "[encoded data removed]",
      "text/plain": [
       "<Figure size 432x288 with 1 Axes>"
      ]
     },
     "metadata": {},
     "output_type": "display_data"
    }
   ],
   "source": [
    "with sns.axes_style(\"darkgrid\"):\n",
    "    sns.barplot(data = results,\n",
    "                x=results['Model'],\n",
    "                y=results['Test Accuracy'],\n",
    "                palette = 'inferno').set(title = \"Confronto Classificatori - Test Accuracy\")"
   ]
  },
  {
   "cell_type": "code",
   "execution_count": 44,
   "metadata": {},
   "outputs": [
    {
     "data": {
      "image/png": "[encoded data removed]",
      "text/plain": [
       "<Figure size 432x288 with 1 Axes>"
      ]
     },
     "metadata": {},
     "output_type": "display_data"
    }
   ],
   "source": [
    "with sns.axes_style(\"darkgrid\"):\n",
    "    sns.barplot(data = results,\n",
    "                x=results['Model'],\n",
    "                y=results['Precision'],\n",
    "                palette = 'inferno').set(title = \"Confronto Classificatori - Precision\")"
   ]
  },
  {
   "cell_type": "code",
   "execution_count": 45,
   "metadata": {},
   "outputs": [
    {
     "data": {
      "image/png": "[encoded data removed]",
      "text/plain": [
       "<Figure size 432x288 with 1 Axes>"
      ]
     },
     "metadata": {},
     "output_type": "display_data"
    }
   ],
   "source": [
    "with sns.axes_style(\"darkgrid\"):\n",
    "    sns.barplot(data = results,\n",
    "                x=results['Model'],\n",
    "                y=results['Recall'],\n",
    "                palette = 'inferno').set(title = \"Confronto Classificatori - Recall\")"
   ]
  },
  {
   "cell_type": "markdown",
   "metadata": {},
   "source": [
    "Come possiamo vedere dai grafici precedenti, il modello migliore è risultato il Random Forest con indice di profondità pari a 12. Nel complesso quasai tutti i modelli si sono comportati circa in egual modo, a differenza del Naive Bayes che ha restiuito un Accuracy del 70% circa"
   ]
  }
 ],
 "metadata": {
  "kernelspec": {
   "display_name": "Python 3",
   "language": "python",
   "name": "python3"
  },
  "language_info": {
   "codemirror_mode": {
    "name": "ipython",
    "version": 3
   },
   "file_extension": ".py",
   "mimetype": "text/x-python",
   "name": "python",
   "nbconvert_exporter": "python",
   "pygments_lexer": "ipython3",
   "version": "3.8.3"
  }
 },
 "nbformat": 4,
 "nbformat_minor": 5
}
