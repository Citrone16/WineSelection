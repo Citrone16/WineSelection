{
 "cells": [
  {
   "cell_type": "markdown",
   "metadata": {},
   "source": [
    "# Classificazione della qualità dei vini\n",
    "Per la classificazione delle diverse tipologie di vino abbiamo effettuato un confronto tra i diversi modelli di _apprendimento supervisionato_ con l'obiettivo di trovare il classificatore migliore in grado di determinare il valore più attendibile per il confronto della qualità\n",
    "\n",
    "Importiamo i moduli e le librerie utili alla realizzazione del sistema"
   ]
  },
  {
   "cell_type": "code",
   "execution_count": 1,
   "metadata": {},
   "outputs": [],
   "source": [
    "import numpy as np\n",
    "import pandas as pd\n",
    "import seaborn as sns\n",
    "\n",
    "from matplotlib import pyplot as plt\n",
    "\n",
    "from sklearn import linear_model\n",
    "from sklearn.preprocessing import LabelEncoder, OrdinalEncoder, MinMaxScaler, StandardScaler\n",
    "\n",
    "from sklearn.model_selection import GridSearchCV, KFold, train_test_split, StratifiedKFold, cross_val_score\n",
    "from sklearn.metrics import mean_squared_error, r2_score, precision_score, recall_score, f1_score, accuracy_score, matthews_corrcoef\n",
    "from imblearn.over_sampling import SMOTE\n",
    "#from imblearn.pipeline import Pipeline as imbpipeline\n",
    "from sklearn.pipeline import Pipeline, make_pipeline\n",
    "from sklearn.metrics import classification_report, confusion_matrix\n",
    "from sklearn.metrics import ConfusionMatrixDisplay \n",
    "from imblearn.metrics import geometric_mean_score\n",
    "\n",
    "from sklearn.metrics import roc_curve\n",
    "from sklearn.metrics import roc_auc_score\n",
    "from sklearn.metrics import precision_recall_curve\n",
    "from sklearn.metrics import average_precision_score\n",
    "\n",
    "from sklearn.tree import DecisionTreeClassifier\n",
    "from sklearn.linear_model import LogisticRegression\n",
    "from sklearn.naive_bayes import GaussianNB\n",
    "from sklearn.ensemble import RandomForestClassifier\n",
    "from sklearn.neighbors import KNeighborsClassifier\n",
    "from sklearn.svm import SVC\n",
    "\n",
    "from inspect import signature"
   ]
  },
  {
   "cell_type": "markdown",
   "metadata": {},
   "source": [
    "## Load del dataset\n",
    "Carichiamo il dataset in locale e lo visualizziamo"
   ]
  },
  {
   "cell_type": "code",
   "execution_count": 2,
   "metadata": {
    "scrolled": false
   },
   "outputs": [
    {
     "data": {
      "text/html": [
       "<div>\n",
       "<style scoped>\n",
       "    .dataframe tbody tr th:only-of-type {\n",
       "        vertical-align: middle;\n",
       "    }\n",
       "\n",
       "    .dataframe tbody tr th {\n",
       "        vertical-align: top;\n",
       "    }\n",
       "\n",
       "    .dataframe thead th {\n",
       "        text-align: right;\n",
       "    }\n",
       "</style>\n",
       "<table border=\"1\" class=\"dataframe\">\n",
       "  <thead>\n",
       "    <tr style=\"text-align: right;\">\n",
       "      <th></th>\n",
       "      <th>type</th>\n",
       "      <th>fixed acidity</th>\n",
       "      <th>volatile acidity</th>\n",
       "      <th>citric acid</th>\n",
       "      <th>residual sugar</th>\n",
       "      <th>chlorides</th>\n",
       "      <th>free sulfur dioxide</th>\n",
       "      <th>total sulfur dioxide</th>\n",
       "      <th>density</th>\n",
       "      <th>pH</th>\n",
       "      <th>sulphates</th>\n",
       "      <th>alcohol</th>\n",
       "      <th>quality</th>\n",
       "    </tr>\n",
       "  </thead>\n",
       "  <tbody>\n",
       "    <tr>\n",
       "      <th>0</th>\n",
       "      <td>white</td>\n",
       "      <td>7.0</td>\n",
       "      <td>0.27</td>\n",
       "      <td>0.36</td>\n",
       "      <td>20.7</td>\n",
       "      <td>0.045</td>\n",
       "      <td>45.0</td>\n",
       "      <td>170.0</td>\n",
       "      <td>1.0010</td>\n",
       "      <td>3.00</td>\n",
       "      <td>0.45</td>\n",
       "      <td>8.8</td>\n",
       "      <td>6</td>\n",
       "    </tr>\n",
       "    <tr>\n",
       "      <th>1</th>\n",
       "      <td>white</td>\n",
       "      <td>6.3</td>\n",
       "      <td>0.30</td>\n",
       "      <td>0.34</td>\n",
       "      <td>1.6</td>\n",
       "      <td>0.049</td>\n",
       "      <td>14.0</td>\n",
       "      <td>132.0</td>\n",
       "      <td>0.9940</td>\n",
       "      <td>3.30</td>\n",
       "      <td>0.49</td>\n",
       "      <td>9.5</td>\n",
       "      <td>6</td>\n",
       "    </tr>\n",
       "    <tr>\n",
       "      <th>2</th>\n",
       "      <td>white</td>\n",
       "      <td>8.1</td>\n",
       "      <td>0.28</td>\n",
       "      <td>0.40</td>\n",
       "      <td>6.9</td>\n",
       "      <td>0.050</td>\n",
       "      <td>30.0</td>\n",
       "      <td>97.0</td>\n",
       "      <td>0.9951</td>\n",
       "      <td>3.26</td>\n",
       "      <td>0.44</td>\n",
       "      <td>10.1</td>\n",
       "      <td>6</td>\n",
       "    </tr>\n",
       "    <tr>\n",
       "      <th>3</th>\n",
       "      <td>white</td>\n",
       "      <td>7.2</td>\n",
       "      <td>0.23</td>\n",
       "      <td>0.32</td>\n",
       "      <td>8.5</td>\n",
       "      <td>0.058</td>\n",
       "      <td>47.0</td>\n",
       "      <td>186.0</td>\n",
       "      <td>0.9956</td>\n",
       "      <td>3.19</td>\n",
       "      <td>0.40</td>\n",
       "      <td>9.9</td>\n",
       "      <td>6</td>\n",
       "    </tr>\n",
       "    <tr>\n",
       "      <th>4</th>\n",
       "      <td>white</td>\n",
       "      <td>7.2</td>\n",
       "      <td>0.23</td>\n",
       "      <td>0.32</td>\n",
       "      <td>8.5</td>\n",
       "      <td>0.058</td>\n",
       "      <td>47.0</td>\n",
       "      <td>186.0</td>\n",
       "      <td>0.9956</td>\n",
       "      <td>3.19</td>\n",
       "      <td>0.40</td>\n",
       "      <td>9.9</td>\n",
       "      <td>6</td>\n",
       "    </tr>\n",
       "  </tbody>\n",
       "</table>\n",
       "</div>"
      ],
      "text/plain": [
       "    type  fixed acidity  volatile acidity  citric acid  residual sugar  \\\n",
       "0  white            7.0              0.27         0.36            20.7   \n",
       "1  white            6.3              0.30         0.34             1.6   \n",
       "2  white            8.1              0.28         0.40             6.9   \n",
       "3  white            7.2              0.23         0.32             8.5   \n",
       "4  white            7.2              0.23         0.32             8.5   \n",
       "\n",
       "   chlorides  free sulfur dioxide  total sulfur dioxide  density    pH  \\\n",
       "0      0.045                 45.0                 170.0   1.0010  3.00   \n",
       "1      0.049                 14.0                 132.0   0.9940  3.30   \n",
       "2      0.050                 30.0                  97.0   0.9951  3.26   \n",
       "3      0.058                 47.0                 186.0   0.9956  3.19   \n",
       "4      0.058                 47.0                 186.0   0.9956  3.19   \n",
       "\n",
       "   sulphates  alcohol  quality  \n",
       "0       0.45      8.8        6  \n",
       "1       0.49      9.5        6  \n",
       "2       0.44     10.1        6  \n",
       "3       0.40      9.9        6  \n",
       "4       0.40      9.9        6  "
      ]
     },
     "execution_count": 2,
     "metadata": {},
     "output_type": "execute_result"
    }
   ],
   "source": [
    "df = pd.read_csv(\"../Dataset/wine_quality.csv\")\n",
    "\n",
    "df.head()"
   ]
  },
  {
   "cell_type": "markdown",
   "metadata": {},
   "source": [
    " <i>Stampa dei vini bianchi con punteggio di qualità uguale a 7</i>"
   ]
  },
  {
   "cell_type": "code",
   "execution_count": 3,
   "metadata": {
    "scrolled": false
   },
   "outputs": [
    {
     "data": {
      "text/html": [
       "<div>\n",
       "<style scoped>\n",
       "    .dataframe tbody tr th:only-of-type {\n",
       "        vertical-align: middle;\n",
       "    }\n",
       "\n",
       "    .dataframe tbody tr th {\n",
       "        vertical-align: top;\n",
       "    }\n",
       "\n",
       "    .dataframe thead th {\n",
       "        text-align: right;\n",
       "    }\n",
       "</style>\n",
       "<table border=\"1\" class=\"dataframe\">\n",
       "  <thead>\n",
       "    <tr style=\"text-align: right;\">\n",
       "      <th></th>\n",
       "      <th>type</th>\n",
       "      <th>fixed acidity</th>\n",
       "      <th>volatile acidity</th>\n",
       "      <th>citric acid</th>\n",
       "      <th>residual sugar</th>\n",
       "      <th>chlorides</th>\n",
       "      <th>free sulfur dioxide</th>\n",
       "      <th>total sulfur dioxide</th>\n",
       "      <th>density</th>\n",
       "      <th>pH</th>\n",
       "      <th>sulphates</th>\n",
       "      <th>alcohol</th>\n",
       "      <th>quality</th>\n",
       "    </tr>\n",
       "  </thead>\n",
       "  <tbody>\n",
       "    <tr>\n",
       "      <th>13</th>\n",
       "      <td>white</td>\n",
       "      <td>6.6</td>\n",
       "      <td>0.16</td>\n",
       "      <td>0.40</td>\n",
       "      <td>1.5</td>\n",
       "      <td>0.044</td>\n",
       "      <td>48.0</td>\n",
       "      <td>143.0</td>\n",
       "      <td>0.9912</td>\n",
       "      <td>3.54</td>\n",
       "      <td>0.52</td>\n",
       "      <td>12.4</td>\n",
       "      <td>7</td>\n",
       "    </tr>\n",
       "    <tr>\n",
       "      <th>15</th>\n",
       "      <td>white</td>\n",
       "      <td>6.6</td>\n",
       "      <td>0.17</td>\n",
       "      <td>0.38</td>\n",
       "      <td>1.5</td>\n",
       "      <td>0.032</td>\n",
       "      <td>28.0</td>\n",
       "      <td>112.0</td>\n",
       "      <td>0.9914</td>\n",
       "      <td>3.25</td>\n",
       "      <td>0.55</td>\n",
       "      <td>11.4</td>\n",
       "      <td>7</td>\n",
       "    </tr>\n",
       "    <tr>\n",
       "      <th>21</th>\n",
       "      <td>white</td>\n",
       "      <td>6.4</td>\n",
       "      <td>0.31</td>\n",
       "      <td>0.38</td>\n",
       "      <td>2.9</td>\n",
       "      <td>0.038</td>\n",
       "      <td>19.0</td>\n",
       "      <td>102.0</td>\n",
       "      <td>0.9912</td>\n",
       "      <td>3.17</td>\n",
       "      <td>0.35</td>\n",
       "      <td>11.0</td>\n",
       "      <td>7</td>\n",
       "    </tr>\n",
       "    <tr>\n",
       "      <th>29</th>\n",
       "      <td>white</td>\n",
       "      <td>7.2</td>\n",
       "      <td>0.32</td>\n",
       "      <td>0.36</td>\n",
       "      <td>2.0</td>\n",
       "      <td>0.033</td>\n",
       "      <td>37.0</td>\n",
       "      <td>114.0</td>\n",
       "      <td>0.9906</td>\n",
       "      <td>3.10</td>\n",
       "      <td>0.71</td>\n",
       "      <td>12.3</td>\n",
       "      <td>7</td>\n",
       "    </tr>\n",
       "    <tr>\n",
       "      <th>45</th>\n",
       "      <td>white</td>\n",
       "      <td>7.4</td>\n",
       "      <td>0.18</td>\n",
       "      <td>0.31</td>\n",
       "      <td>1.4</td>\n",
       "      <td>0.058</td>\n",
       "      <td>38.0</td>\n",
       "      <td>167.0</td>\n",
       "      <td>0.9931</td>\n",
       "      <td>3.16</td>\n",
       "      <td>0.53</td>\n",
       "      <td>10.0</td>\n",
       "      <td>7</td>\n",
       "    </tr>\n",
       "  </tbody>\n",
       "</table>\n",
       "</div>"
      ],
      "text/plain": [
       "     type  fixed acidity  volatile acidity  citric acid  residual sugar  \\\n",
       "13  white            6.6              0.16         0.40             1.5   \n",
       "15  white            6.6              0.17         0.38             1.5   \n",
       "21  white            6.4              0.31         0.38             2.9   \n",
       "29  white            7.2              0.32         0.36             2.0   \n",
       "45  white            7.4              0.18         0.31             1.4   \n",
       "\n",
       "    chlorides  free sulfur dioxide  total sulfur dioxide  density    pH  \\\n",
       "13      0.044                 48.0                 143.0   0.9912  3.54   \n",
       "15      0.032                 28.0                 112.0   0.9914  3.25   \n",
       "21      0.038                 19.0                 102.0   0.9912  3.17   \n",
       "29      0.033                 37.0                 114.0   0.9906  3.10   \n",
       "45      0.058                 38.0                 167.0   0.9931  3.16   \n",
       "\n",
       "    sulphates  alcohol  quality  \n",
       "13       0.52     12.4        7  \n",
       "15       0.55     11.4        7  \n",
       "21       0.35     11.0        7  \n",
       "29       0.71     12.3        7  \n",
       "45       0.53     10.0        7  "
      ]
     },
     "execution_count": 3,
     "metadata": {},
     "output_type": "execute_result"
    }
   ],
   "source": [
    "\n",
    "df.loc[(df[\"type\"]==\"white\")&(df[\"quality\"]==7)].head()"
   ]
  },
  {
   "cell_type": "markdown",
   "metadata": {},
   "source": [
    "# Pulizia dei dati\n",
    "## Controllo e pulizia dei valori nulli\n",
    "Controlliamo la possibile presenza di valori nulli ed eventualmente eliminarli"
   ]
  },
  {
   "cell_type": "code",
   "execution_count": 4,
   "metadata": {
    "scrolled": true
   },
   "outputs": [
    {
     "name": "stdout",
     "output_type": "stream",
     "text": [
      "type                     0\n",
      "fixed acidity           10\n",
      "volatile acidity         8\n",
      "citric acid              3\n",
      "residual sugar           2\n",
      "chlorides                2\n",
      "free sulfur dioxide      0\n",
      "total sulfur dioxide     0\n",
      "density                  0\n",
      "pH                       9\n",
      "sulphates                4\n",
      "alcohol                  0\n",
      "quality                  0\n",
      "dtype: int64\n"
     ]
    }
   ],
   "source": [
    "print(df.isnull().sum())"
   ]
  },
  {
   "cell_type": "code",
   "execution_count": 5,
   "metadata": {
    "scrolled": false
   },
   "outputs": [
    {
     "data": {
      "text/plain": [
       "<matplotlib.axes._subplots.AxesSubplot at 0x265bc12abe0>"
      ]
     },
     "execution_count": 5,
     "metadata": {},
     "output_type": "execute_result"
    },
    {
     "data": {
      "image/png": "[encoded data removed]",
      "text/plain": [
       "<Figure size 432x288 with 2 Axes>"
      ]
     },
     "metadata": {
      "needs_background": "light"
     },
     "output_type": "display_data"
    }
   ],
   "source": [
    "sns.heatmap(df.isnull())"
   ]
  },
  {
   "cell_type": "markdown",
   "metadata": {},
   "source": [
    "Rimpiazziamo i valori nulli con la mediana della feature associata ad esso"
   ]
  },
  {
   "cell_type": "code",
   "execution_count": 6,
   "metadata": {},
   "outputs": [
    {
     "data": {
      "text/plain": [
       "0"
      ]
     },
     "execution_count": 6,
     "metadata": {},
     "output_type": "execute_result"
    }
   ],
   "source": [
    "#Replacing null values in fixed acidity with median\n",
    "df['fixed acidity'].fillna(df['fixed acidity'].median(), inplace=True)\n",
    "df['fixed acidity'].isna().sum()\n",
    "\n",
    "#Replacing null values in volatile acidity with mean\n",
    "df['volatile acidity'].fillna(df['volatile acidity'].mean(), inplace=True)\n",
    "df['volatile acidity'].isna().sum()\n",
    "\n",
    "#Replacing null values in citric acid with mean\n",
    "df['citric acid'].fillna(df['citric acid'].mean(), inplace=True)\n",
    "df['citric acid'].isna().sum()\n",
    "\n",
    "#Replacing null values in residual sugar with mean\n",
    "df['residual sugar'].fillna(df['residual sugar'].mean(), inplace=True)\n",
    "df['residual sugar'].isna().sum()\n",
    "\n",
    "#Replacing null values in chlorides with median\n",
    "df['chlorides'].fillna(df['chlorides'].median(), inplace=True)\n",
    "df['chlorides'].isna().sum()\n",
    "\n",
    "#Replacing null values in pH with mean\n",
    "df['pH'].fillna(df['pH'].mean(), inplace=True)\n",
    "df['pH'].isna().sum()\n",
    "\n",
    "#Replacing null values in sulphates with median\n",
    "df['sulphates'].fillna(df['sulphates'].median(), inplace=True)\n",
    "df['sulphates'].isna().sum()\n"
   ]
  },
  {
   "cell_type": "code",
   "execution_count": 7,
   "metadata": {},
   "outputs": [],
   "source": [
    "#Removing outliers in residual sugar\n",
    "lower = df['residual sugar'].mean()-3*df['residual sugar'].std()\n",
    "upper = df['residual sugar'].mean()+3*df['residual sugar'].std()\n",
    "df = df[(df['residual sugar']>lower) & (df['residual sugar']<upper)]\n",
    "\n",
    "#Removing outliers in free sulfur dioxide\n",
    "lower = df['free sulfur dioxide'].mean()-3*df['free sulfur dioxide'].std()\n",
    "upper = df['free sulfur dioxide'].mean()+3*df['free sulfur dioxide'].std()\n",
    "df = df[(df['free sulfur dioxide']>lower) & (df['free sulfur dioxide']<upper)]\n",
    "\n",
    "#Removing outliers in total sulfur dioxide\n",
    "lower = df['total sulfur dioxide'].mean()-3*df['total sulfur dioxide'].std()\n",
    "upper = df['total sulfur dioxide'].mean()+3*df['total sulfur dioxide'].std()\n",
    "df = df[(df['total sulfur dioxide']>lower) & (df['total sulfur dioxide']<upper)]"
   ]
  },
  {
   "cell_type": "code",
   "execution_count": 8,
   "metadata": {},
   "outputs": [
    {
     "data": {
      "text/plain": [
       "<matplotlib.axes._subplots.AxesSubplot at 0x265bca8f6d0>"
      ]
     },
     "execution_count": 8,
     "metadata": {},
     "output_type": "execute_result"
    },
    {
     "data": {
      "image/png": "[encoded data removed]",
      "text/plain": [
       "<Figure size 432x288 with 2 Axes>"
      ]
     },
     "metadata": {
      "needs_background": "light"
     },
     "output_type": "display_data"
    }
   ],
   "source": [
    "# elimina le righe che contengono valori nulli\n",
    "#df.dropna(axis='index', how='any', inplace=True)\n",
    "\n",
    "# heatmap per valori nulli\n",
    "sns.heatmap(df.isnull())"
   ]
  },
  {
   "cell_type": "code",
   "execution_count": 9,
   "metadata": {
    "scrolled": true
   },
   "outputs": [
    {
     "name": "stdout",
     "output_type": "stream",
     "text": [
      "Dimensione del dataset processato:  (6430, 13)\n"
     ]
    }
   ],
   "source": [
    "print('Dimensione del dataset processato: ', df.shape)"
   ]
  },
  {
   "cell_type": "markdown",
   "metadata": {},
   "source": [
    "### Rimozione delle tuple duplicate"
   ]
  },
  {
   "cell_type": "code",
   "execution_count": 10,
   "metadata": {},
   "outputs": [
    {
     "data": {
      "text/plain": [
       "(5278, 13)"
      ]
     },
     "execution_count": 10,
     "metadata": {},
     "output_type": "execute_result"
    }
   ],
   "source": [
    "df = df.drop_duplicates()\n",
    "df.reset_index()\n",
    "df.shape"
   ]
  },
  {
   "cell_type": "markdown",
   "metadata": {},
   "source": [
    "Come possiamo notare sono state eliminate circa 1200 righe dal dataset"
   ]
  },
  {
   "cell_type": "markdown",
   "metadata": {},
   "source": [
    "### Visualizzazione statistica delle feature"
   ]
  },
  {
   "cell_type": "markdown",
   "metadata": {},
   "source": [
    "Raggruppiamo i vini per \"type\" e visualizziamo una statistica che ci indichi i valori minimi, massimi e medi di ogni feature. Questo ci servirà , successivamente , nella realizzazione delle regole all'interno della nostra KB"
   ]
  },
  {
   "cell_type": "code",
   "execution_count": 11,
   "metadata": {
    "scrolled": false
   },
   "outputs": [
    {
     "data": {
      "text/html": [
       "<div>\n",
       "<style scoped>\n",
       "    .dataframe tbody tr th:only-of-type {\n",
       "        vertical-align: middle;\n",
       "    }\n",
       "\n",
       "    .dataframe tbody tr th {\n",
       "        vertical-align: top;\n",
       "    }\n",
       "\n",
       "    .dataframe thead th {\n",
       "        text-align: right;\n",
       "    }\n",
       "</style>\n",
       "<table border=\"1\" class=\"dataframe\">\n",
       "  <thead>\n",
       "    <tr style=\"text-align: right;\">\n",
       "      <th></th>\n",
       "      <th>type</th>\n",
       "      <th>red</th>\n",
       "      <th>white</th>\n",
       "    </tr>\n",
       "  </thead>\n",
       "  <tbody>\n",
       "    <tr>\n",
       "      <th rowspan=\"3\" valign=\"top\">fixed acidity</th>\n",
       "      <th>mean</th>\n",
       "      <td>8.311856</td>\n",
       "      <td>6.840855</td>\n",
       "    </tr>\n",
       "    <tr>\n",
       "      <th>min</th>\n",
       "      <td>4.600000</td>\n",
       "      <td>3.800000</td>\n",
       "    </tr>\n",
       "    <tr>\n",
       "      <th>max</th>\n",
       "      <td>15.900000</td>\n",
       "      <td>14.200000</td>\n",
       "    </tr>\n",
       "    <tr>\n",
       "      <th rowspan=\"3\" valign=\"top\">volatile acidity</th>\n",
       "      <th>mean</th>\n",
       "      <td>0.529411</td>\n",
       "      <td>0.280675</td>\n",
       "    </tr>\n",
       "    <tr>\n",
       "      <th>min</th>\n",
       "      <td>0.120000</td>\n",
       "      <td>0.080000</td>\n",
       "    </tr>\n",
       "    <tr>\n",
       "      <th>max</th>\n",
       "      <td>1.580000</td>\n",
       "      <td>1.100000</td>\n",
       "    </tr>\n",
       "    <tr>\n",
       "      <th rowspan=\"3\" valign=\"top\">citric acid</th>\n",
       "      <th>mean</th>\n",
       "      <td>0.272267</td>\n",
       "      <td>0.334405</td>\n",
       "    </tr>\n",
       "    <tr>\n",
       "      <th>min</th>\n",
       "      <td>0.000000</td>\n",
       "      <td>0.000000</td>\n",
       "    </tr>\n",
       "    <tr>\n",
       "      <th>max</th>\n",
       "      <td>1.000000</td>\n",
       "      <td>1.660000</td>\n",
       "    </tr>\n",
       "    <tr>\n",
       "      <th rowspan=\"3\" valign=\"top\">residual sugar</th>\n",
       "      <th>mean</th>\n",
       "      <td>2.519146</td>\n",
       "      <td>5.831974</td>\n",
       "    </tr>\n",
       "    <tr>\n",
       "      <th>min</th>\n",
       "      <td>0.900000</td>\n",
       "      <td>0.600000</td>\n",
       "    </tr>\n",
       "    <tr>\n",
       "      <th>max</th>\n",
       "      <td>15.500000</td>\n",
       "      <td>19.600000</td>\n",
       "    </tr>\n",
       "    <tr>\n",
       "      <th rowspan=\"3\" valign=\"top\">chlorides</th>\n",
       "      <th>mean</th>\n",
       "      <td>0.088152</td>\n",
       "      <td>0.045861</td>\n",
       "    </tr>\n",
       "    <tr>\n",
       "      <th>min</th>\n",
       "      <td>0.012000</td>\n",
       "      <td>0.009000</td>\n",
       "    </tr>\n",
       "    <tr>\n",
       "      <th>max</th>\n",
       "      <td>0.611000</td>\n",
       "      <td>0.346000</td>\n",
       "    </tr>\n",
       "    <tr>\n",
       "      <th rowspan=\"3\" valign=\"top\">free sulfur dioxide</th>\n",
       "      <th>mean</th>\n",
       "      <td>15.877393</td>\n",
       "      <td>34.329464</td>\n",
       "    </tr>\n",
       "    <tr>\n",
       "      <th>min</th>\n",
       "      <td>1.000000</td>\n",
       "      <td>2.000000</td>\n",
       "    </tr>\n",
       "    <tr>\n",
       "      <th>max</th>\n",
       "      <td>72.000000</td>\n",
       "      <td>83.000000</td>\n",
       "    </tr>\n",
       "    <tr>\n",
       "      <th rowspan=\"3\" valign=\"top\">total sulfur dioxide</th>\n",
       "      <th>mean</th>\n",
       "      <td>46.647644</td>\n",
       "      <td>136.412245</td>\n",
       "    </tr>\n",
       "    <tr>\n",
       "      <th>min</th>\n",
       "      <td>6.000000</td>\n",
       "      <td>9.000000</td>\n",
       "    </tr>\n",
       "    <tr>\n",
       "      <th>max</th>\n",
       "      <td>278.000000</td>\n",
       "      <td>282.000000</td>\n",
       "    </tr>\n",
       "    <tr>\n",
       "      <th rowspan=\"3\" valign=\"top\">density</th>\n",
       "      <th>mean</th>\n",
       "      <td>0.996712</td>\n",
       "      <td>0.993746</td>\n",
       "    </tr>\n",
       "    <tr>\n",
       "      <th>min</th>\n",
       "      <td>0.990070</td>\n",
       "      <td>0.987110</td>\n",
       "    </tr>\n",
       "    <tr>\n",
       "      <th>max</th>\n",
       "      <td>1.003690</td>\n",
       "      <td>1.001820</td>\n",
       "    </tr>\n",
       "    <tr>\n",
       "      <th rowspan=\"3\" valign=\"top\">pH</th>\n",
       "      <th>mean</th>\n",
       "      <td>3.309578</td>\n",
       "      <td>3.195681</td>\n",
       "    </tr>\n",
       "    <tr>\n",
       "      <th>min</th>\n",
       "      <td>2.740000</td>\n",
       "      <td>2.720000</td>\n",
       "    </tr>\n",
       "    <tr>\n",
       "      <th>max</th>\n",
       "      <td>4.010000</td>\n",
       "      <td>3.820000</td>\n",
       "    </tr>\n",
       "    <tr>\n",
       "      <th rowspan=\"3\" valign=\"top\">sulphates</th>\n",
       "      <th>mean</th>\n",
       "      <td>0.658513</td>\n",
       "      <td>0.490186</td>\n",
       "    </tr>\n",
       "    <tr>\n",
       "      <th>min</th>\n",
       "      <td>0.330000</td>\n",
       "      <td>0.220000</td>\n",
       "    </tr>\n",
       "    <tr>\n",
       "      <th>max</th>\n",
       "      <td>2.000000</td>\n",
       "      <td>1.080000</td>\n",
       "    </tr>\n",
       "    <tr>\n",
       "      <th rowspan=\"3\" valign=\"top\">alcohol</th>\n",
       "      <th>mean</th>\n",
       "      <td>10.430940</td>\n",
       "      <td>10.594068</td>\n",
       "    </tr>\n",
       "    <tr>\n",
       "      <th>min</th>\n",
       "      <td>8.400000</td>\n",
       "      <td>8.000000</td>\n",
       "    </tr>\n",
       "    <tr>\n",
       "      <th>max</th>\n",
       "      <td>14.900000</td>\n",
       "      <td>14.200000</td>\n",
       "    </tr>\n",
       "  </tbody>\n",
       "</table>\n",
       "</div>"
      ],
      "text/plain": [
       "type                              red       white\n",
       "fixed acidity        mean    8.311856    6.840855\n",
       "                     min     4.600000    3.800000\n",
       "                     max    15.900000   14.200000\n",
       "volatile acidity     mean    0.529411    0.280675\n",
       "                     min     0.120000    0.080000\n",
       "                     max     1.580000    1.100000\n",
       "citric acid          mean    0.272267    0.334405\n",
       "                     min     0.000000    0.000000\n",
       "                     max     1.000000    1.660000\n",
       "residual sugar       mean    2.519146    5.831974\n",
       "                     min     0.900000    0.600000\n",
       "                     max    15.500000   19.600000\n",
       "chlorides            mean    0.088152    0.045861\n",
       "                     min     0.012000    0.009000\n",
       "                     max     0.611000    0.346000\n",
       "free sulfur dioxide  mean   15.877393   34.329464\n",
       "                     min     1.000000    2.000000\n",
       "                     max    72.000000   83.000000\n",
       "total sulfur dioxide mean   46.647644  136.412245\n",
       "                     min     6.000000    9.000000\n",
       "                     max   278.000000  282.000000\n",
       "density              mean    0.996712    0.993746\n",
       "                     min     0.990070    0.987110\n",
       "                     max     1.003690    1.001820\n",
       "pH                   mean    3.309578    3.195681\n",
       "                     min     2.740000    2.720000\n",
       "                     max     4.010000    3.820000\n",
       "sulphates            mean    0.658513    0.490186\n",
       "                     min     0.330000    0.220000\n",
       "                     max     2.000000    1.080000\n",
       "alcohol              mean   10.430940   10.594068\n",
       "                     min     8.400000    8.000000\n",
       "                     max    14.900000   14.200000"
      ]
     },
     "execution_count": 11,
     "metadata": {},
     "output_type": "execute_result"
    }
   ],
   "source": [
    "result = df.groupby('type').agg({'fixed acidity': ['mean', 'min', 'max'],'volatile acidity': ['mean', 'min', 'max'],\n",
    "                                'citric acid': ['mean', 'min', 'max'],'residual sugar': ['mean', 'min', 'max'],\n",
    "                                'chlorides': ['mean', 'min', 'max'],'free sulfur dioxide': ['mean', 'min', 'max'],\n",
    "                                'total sulfur dioxide': ['mean', 'min', 'max'],'density': ['mean', 'min', 'max'],\n",
    "                                'pH': ['mean', 'min', 'max'],'sulphates': ['mean', 'min', 'max'],\n",
    "                                'alcohol': ['mean', 'min', 'max']})\n",
    "\n",
    "result = result.transpose()\n",
    "#result.plot(kind='barh', title='Count (quality_label)')\n",
    "result.head(33)\n"
   ]
  },
  {
   "cell_type": "markdown",
   "metadata": {},
   "source": [
    "## Bilanciamento classe quality prima della normalizzazione"
   ]
  },
  {
   "cell_type": "code",
   "execution_count": 12,
   "metadata": {
    "scrolled": true
   },
   "outputs": [
    {
     "data": {
      "text/plain": [
       "<matplotlib.axes._subplots.AxesSubplot at 0x265bd2f98b0>"
      ]
     },
     "execution_count": 12,
     "metadata": {},
     "output_type": "execute_result"
    },
    {
     "data": {
      "image/png": "[encoded data removed]",
      "text/plain": [
       "<Figure size 432x288 with 1 Axes>"
      ]
     },
     "metadata": {
      "needs_background": "light"
     },
     "output_type": "display_data"
    }
   ],
   "source": [
    "quality_count = df['quality'].value_counts()\n",
    "quality_count.plot(kind='bar', title='Count (quality)')"
   ]
  },
  {
   "cell_type": "markdown",
   "metadata": {},
   "source": [
    "## Normalizzazione delle feature numeriche e categoriche\n"
   ]
  },
  {
   "cell_type": "markdown",
   "metadata": {},
   "source": [
    "### 1-Hot Encoder"
   ]
  },
  {
   "cell_type": "markdown",
   "metadata": {},
   "source": [
    "The 'type' column must be 1-hot encoded for classification. 1-hot encoding creates a binary column for each category. Here we use pd.get_dummies() to remove the first category and essentially bring it to one column of 1's and 0's where 1 denotes white wine and 0 denotes not white (red wine)."
   ]
  },
  {
   "cell_type": "code",
   "execution_count": 13,
   "metadata": {},
   "outputs": [],
   "source": [
    "dummies = pd.get_dummies(df[\"type\"], drop_first=True)\n",
    "df = pd.concat([df, dummies], axis=1)\n",
    "df.drop(\"type\", axis=1, inplace=True)"
   ]
  },
  {
   "cell_type": "code",
   "execution_count": 14,
   "metadata": {},
   "outputs": [
    {
     "data": {
      "text/html": [
       "<div>\n",
       "<style scoped>\n",
       "    .dataframe tbody tr th:only-of-type {\n",
       "        vertical-align: middle;\n",
       "    }\n",
       "\n",
       "    .dataframe tbody tr th {\n",
       "        vertical-align: top;\n",
       "    }\n",
       "\n",
       "    .dataframe thead th {\n",
       "        text-align: right;\n",
       "    }\n",
       "</style>\n",
       "<table border=\"1\" class=\"dataframe\">\n",
       "  <thead>\n",
       "    <tr style=\"text-align: right;\">\n",
       "      <th></th>\n",
       "      <th>fixed acidity</th>\n",
       "      <th>volatile acidity</th>\n",
       "      <th>citric acid</th>\n",
       "      <th>residual sugar</th>\n",
       "      <th>chlorides</th>\n",
       "      <th>free sulfur dioxide</th>\n",
       "      <th>total sulfur dioxide</th>\n",
       "      <th>density</th>\n",
       "      <th>pH</th>\n",
       "      <th>sulphates</th>\n",
       "      <th>alcohol</th>\n",
       "      <th>quality</th>\n",
       "      <th>white</th>\n",
       "    </tr>\n",
       "  </thead>\n",
       "  <tbody>\n",
       "    <tr>\n",
       "      <th>fixed acidity</th>\n",
       "      <td>1.000000</td>\n",
       "      <td>0.213678</td>\n",
       "      <td>0.330001</td>\n",
       "      <td>-0.110387</td>\n",
       "      <td>0.289393</td>\n",
       "      <td>-0.292401</td>\n",
       "      <td>-0.333708</td>\n",
       "      <td>0.492625</td>\n",
       "      <td>-0.269848</td>\n",
       "      <td>0.308504</td>\n",
       "      <td>-0.104582</td>\n",
       "      <td>-0.079849</td>\n",
       "      <td>-0.486987</td>\n",
       "    </tr>\n",
       "    <tr>\n",
       "      <th>volatile acidity</th>\n",
       "      <td>0.213678</td>\n",
       "      <td>1.000000</td>\n",
       "      <td>-0.388757</td>\n",
       "      <td>-0.178600</td>\n",
       "      <td>0.367529</td>\n",
       "      <td>-0.360992</td>\n",
       "      <td>-0.405826</td>\n",
       "      <td>0.308677</td>\n",
       "      <td>0.246452</td>\n",
       "      <td>0.227162</td>\n",
       "      <td>-0.068169</td>\n",
       "      <td>-0.266994</td>\n",
       "      <td>-0.645933</td>\n",
       "    </tr>\n",
       "    <tr>\n",
       "      <th>citric acid</th>\n",
       "      <td>0.330001</td>\n",
       "      <td>-0.388757</td>\n",
       "      <td>1.000000</td>\n",
       "      <td>0.143484</td>\n",
       "      <td>0.056008</td>\n",
       "      <td>0.148696</td>\n",
       "      <td>0.196010</td>\n",
       "      <td>0.092481</td>\n",
       "      <td>-0.344871</td>\n",
       "      <td>0.061183</td>\n",
       "      <td>-0.010639</td>\n",
       "      <td>0.098193</td>\n",
       "      <td>0.185370</td>\n",
       "    </tr>\n",
       "    <tr>\n",
       "      <th>residual sugar</th>\n",
       "      <td>-0.110387</td>\n",
       "      <td>-0.178600</td>\n",
       "      <td>0.143484</td>\n",
       "      <td>1.000000</td>\n",
       "      <td>-0.129263</td>\n",
       "      <td>0.439823</td>\n",
       "      <td>0.502877</td>\n",
       "      <td>0.489904</td>\n",
       "      <td>-0.234278</td>\n",
       "      <td>-0.175557</td>\n",
       "      <td>-0.314914</td>\n",
       "      <td>-0.056616</td>\n",
       "      <td>0.335164</td>\n",
       "    </tr>\n",
       "    <tr>\n",
       "      <th>chlorides</th>\n",
       "      <td>0.289393</td>\n",
       "      <td>0.367529</td>\n",
       "      <td>0.056008</td>\n",
       "      <td>-0.129263</td>\n",
       "      <td>1.000000</td>\n",
       "      <td>-0.192930</td>\n",
       "      <td>-0.272484</td>\n",
       "      <td>0.383151</td>\n",
       "      <td>0.026001</td>\n",
       "      <td>0.406638</td>\n",
       "      <td>-0.271485</td>\n",
       "      <td>-0.204264</td>\n",
       "      <td>-0.500057</td>\n",
       "    </tr>\n",
       "    <tr>\n",
       "      <th>free sulfur dioxide</th>\n",
       "      <td>-0.292401</td>\n",
       "      <td>-0.360992</td>\n",
       "      <td>0.148696</td>\n",
       "      <td>0.439823</td>\n",
       "      <td>-0.192930</td>\n",
       "      <td>1.000000</td>\n",
       "      <td>0.728142</td>\n",
       "      <td>0.008792</td>\n",
       "      <td>-0.153498</td>\n",
       "      <td>-0.214149</td>\n",
       "      <td>-0.175300</td>\n",
       "      <td>0.082814</td>\n",
       "      <td>0.485239</td>\n",
       "    </tr>\n",
       "    <tr>\n",
       "      <th>total sulfur dioxide</th>\n",
       "      <td>-0.333708</td>\n",
       "      <td>-0.405826</td>\n",
       "      <td>0.196010</td>\n",
       "      <td>0.502877</td>\n",
       "      <td>-0.272484</td>\n",
       "      <td>0.728142</td>\n",
       "      <td>1.000000</td>\n",
       "      <td>-0.002841</td>\n",
       "      <td>-0.224104</td>\n",
       "      <td>-0.280617</td>\n",
       "      <td>-0.251082</td>\n",
       "      <td>-0.038090</td>\n",
       "      <td>0.701344</td>\n",
       "    </tr>\n",
       "    <tr>\n",
       "      <th>density</th>\n",
       "      <td>0.492625</td>\n",
       "      <td>0.308677</td>\n",
       "      <td>0.092481</td>\n",
       "      <td>0.489904</td>\n",
       "      <td>0.383151</td>\n",
       "      <td>0.008792</td>\n",
       "      <td>-0.002841</td>\n",
       "      <td>1.000000</td>\n",
       "      <td>0.040013</td>\n",
       "      <td>0.296488</td>\n",
       "      <td>-0.687309</td>\n",
       "      <td>-0.336858</td>\n",
       "      <td>-0.449891</td>\n",
       "    </tr>\n",
       "    <tr>\n",
       "      <th>pH</th>\n",
       "      <td>-0.269848</td>\n",
       "      <td>0.246452</td>\n",
       "      <td>-0.344871</td>\n",
       "      <td>-0.234278</td>\n",
       "      <td>0.026001</td>\n",
       "      <td>-0.153498</td>\n",
       "      <td>-0.224104</td>\n",
       "      <td>0.040013</td>\n",
       "      <td>1.000000</td>\n",
       "      <td>0.163099</td>\n",
       "      <td>0.096015</td>\n",
       "      <td>0.039954</td>\n",
       "      <td>-0.311429</td>\n",
       "    </tr>\n",
       "    <tr>\n",
       "      <th>sulphates</th>\n",
       "      <td>0.308504</td>\n",
       "      <td>0.227162</td>\n",
       "      <td>0.061183</td>\n",
       "      <td>-0.175557</td>\n",
       "      <td>0.406638</td>\n",
       "      <td>-0.214149</td>\n",
       "      <td>-0.280617</td>\n",
       "      <td>0.296488</td>\n",
       "      <td>0.163099</td>\n",
       "      <td>1.000000</td>\n",
       "      <td>-0.021555</td>\n",
       "      <td>0.038303</td>\n",
       "      <td>-0.491477</td>\n",
       "    </tr>\n",
       "    <tr>\n",
       "      <th>alcohol</th>\n",
       "      <td>-0.104582</td>\n",
       "      <td>-0.068169</td>\n",
       "      <td>-0.010639</td>\n",
       "      <td>-0.314914</td>\n",
       "      <td>-0.271485</td>\n",
       "      <td>-0.175300</td>\n",
       "      <td>-0.251082</td>\n",
       "      <td>-0.687309</td>\n",
       "      <td>0.096015</td>\n",
       "      <td>-0.021555</td>\n",
       "      <td>1.000000</td>\n",
       "      <td>0.471617</td>\n",
       "      <td>0.060190</td>\n",
       "    </tr>\n",
       "    <tr>\n",
       "      <th>quality</th>\n",
       "      <td>-0.079849</td>\n",
       "      <td>-0.266994</td>\n",
       "      <td>0.098193</td>\n",
       "      <td>-0.056616</td>\n",
       "      <td>-0.204264</td>\n",
       "      <td>0.082814</td>\n",
       "      <td>-0.038090</td>\n",
       "      <td>-0.336858</td>\n",
       "      <td>0.039954</td>\n",
       "      <td>0.038303</td>\n",
       "      <td>0.471617</td>\n",
       "      <td>1.000000</td>\n",
       "      <td>0.118971</td>\n",
       "    </tr>\n",
       "    <tr>\n",
       "      <th>white</th>\n",
       "      <td>-0.486987</td>\n",
       "      <td>-0.645933</td>\n",
       "      <td>0.185370</td>\n",
       "      <td>0.335164</td>\n",
       "      <td>-0.500057</td>\n",
       "      <td>0.485239</td>\n",
       "      <td>0.701344</td>\n",
       "      <td>-0.449891</td>\n",
       "      <td>-0.311429</td>\n",
       "      <td>-0.491477</td>\n",
       "      <td>0.060190</td>\n",
       "      <td>0.118971</td>\n",
       "      <td>1.000000</td>\n",
       "    </tr>\n",
       "  </tbody>\n",
       "</table>\n",
       "</div>"
      ],
      "text/plain": [
       "                      fixed acidity  volatile acidity  citric acid  \\\n",
       "fixed acidity              1.000000          0.213678     0.330001   \n",
       "volatile acidity           0.213678          1.000000    -0.388757   \n",
       "citric acid                0.330001         -0.388757     1.000000   \n",
       "residual sugar            -0.110387         -0.178600     0.143484   \n",
       "chlorides                  0.289393          0.367529     0.056008   \n",
       "free sulfur dioxide       -0.292401         -0.360992     0.148696   \n",
       "total sulfur dioxide      -0.333708         -0.405826     0.196010   \n",
       "density                    0.492625          0.308677     0.092481   \n",
       "pH                        -0.269848          0.246452    -0.344871   \n",
       "sulphates                  0.308504          0.227162     0.061183   \n",
       "alcohol                   -0.104582         -0.068169    -0.010639   \n",
       "quality                   -0.079849         -0.266994     0.098193   \n",
       "white                     -0.486987         -0.645933     0.185370   \n",
       "\n",
       "                      residual sugar  chlorides  free sulfur dioxide  \\\n",
       "fixed acidity              -0.110387   0.289393            -0.292401   \n",
       "volatile acidity           -0.178600   0.367529            -0.360992   \n",
       "citric acid                 0.143484   0.056008             0.148696   \n",
       "residual sugar              1.000000  -0.129263             0.439823   \n",
       "chlorides                  -0.129263   1.000000            -0.192930   \n",
       "free sulfur dioxide         0.439823  -0.192930             1.000000   \n",
       "total sulfur dioxide        0.502877  -0.272484             0.728142   \n",
       "density                     0.489904   0.383151             0.008792   \n",
       "pH                         -0.234278   0.026001            -0.153498   \n",
       "sulphates                  -0.175557   0.406638            -0.214149   \n",
       "alcohol                    -0.314914  -0.271485            -0.175300   \n",
       "quality                    -0.056616  -0.204264             0.082814   \n",
       "white                       0.335164  -0.500057             0.485239   \n",
       "\n",
       "                      total sulfur dioxide   density        pH  sulphates  \\\n",
       "fixed acidity                    -0.333708  0.492625 -0.269848   0.308504   \n",
       "volatile acidity                 -0.405826  0.308677  0.246452   0.227162   \n",
       "citric acid                       0.196010  0.092481 -0.344871   0.061183   \n",
       "residual sugar                    0.502877  0.489904 -0.234278  -0.175557   \n",
       "chlorides                        -0.272484  0.383151  0.026001   0.406638   \n",
       "free sulfur dioxide               0.728142  0.008792 -0.153498  -0.214149   \n",
       "total sulfur dioxide              1.000000 -0.002841 -0.224104  -0.280617   \n",
       "density                          -0.002841  1.000000  0.040013   0.296488   \n",
       "pH                               -0.224104  0.040013  1.000000   0.163099   \n",
       "sulphates                        -0.280617  0.296488  0.163099   1.000000   \n",
       "alcohol                          -0.251082 -0.687309  0.096015  -0.021555   \n",
       "quality                          -0.038090 -0.336858  0.039954   0.038303   \n",
       "white                             0.701344 -0.449891 -0.311429  -0.491477   \n",
       "\n",
       "                       alcohol   quality     white  \n",
       "fixed acidity        -0.104582 -0.079849 -0.486987  \n",
       "volatile acidity     -0.068169 -0.266994 -0.645933  \n",
       "citric acid          -0.010639  0.098193  0.185370  \n",
       "residual sugar       -0.314914 -0.056616  0.335164  \n",
       "chlorides            -0.271485 -0.204264 -0.500057  \n",
       "free sulfur dioxide  -0.175300  0.082814  0.485239  \n",
       "total sulfur dioxide -0.251082 -0.038090  0.701344  \n",
       "density              -0.687309 -0.336858 -0.449891  \n",
       "pH                    0.096015  0.039954 -0.311429  \n",
       "sulphates            -0.021555  0.038303 -0.491477  \n",
       "alcohol               1.000000  0.471617  0.060190  \n",
       "quality               0.471617  1.000000  0.118971  \n",
       "white                 0.060190  0.118971  1.000000  "
      ]
     },
     "execution_count": 14,
     "metadata": {},
     "output_type": "execute_result"
    },
    {
     "data": {
      "image/png": "[encoded data removed]",
      "text/plain": [
       "<Figure size 1440x720 with 2 Axes>"
      ]
     },
     "metadata": {
      "needs_background": "light"
     },
     "output_type": "display_data"
    }
   ],
   "source": [
    "#Checking relationship between features\n",
    "cor=df.corr()\n",
    "plt.figure(figsize=(20,10))\n",
    "sns.heatmap(cor,xticklabels=cor.columns,yticklabels=cor.columns,annot=True)\n",
    "cor"
   ]
  },
  {
   "cell_type": "markdown",
   "metadata": {},
   "source": [
    "Trasformiamo la classe 'type' in una feature numerica utilizzando il label encoding"
   ]
  },
  {
   "cell_type": "code",
   "execution_count": 15,
   "metadata": {},
   "outputs": [],
   "source": [
    "#ord_enc = OrdinalEncoder()\n",
    "#df[\"color\"] = ord_enc.fit_transform(df[[\"type\"]]) # assume 1 se bianco 0 se rosso"
   ]
  },
  {
   "cell_type": "markdown",
   "metadata": {},
   "source": [
    "Tracciamo una Heatmap per rappresentare la correlazione tra le features prese in considerazione"
   ]
  },
  {
   "cell_type": "code",
   "execution_count": 16,
   "metadata": {},
   "outputs": [
    {
     "data": {
      "text/plain": [
       "<matplotlib.axes._subplots.AxesSubplot at 0x265bd41f490>"
      ]
     },
     "execution_count": 16,
     "metadata": {},
     "output_type": "execute_result"
    },
    {
     "data": {
      "image/png": "[encoded data removed]",
      "text/plain": [
       "<Figure size 720x720 with 2 Axes>"
      ]
     },
     "metadata": {
      "needs_background": "light"
     },
     "output_type": "display_data"
    }
   ],
   "source": [
    "features = ['fixed acidity', 'volatile acidity', 'citric acid', 'residual sugar', 'chlorides', 'free sulfur dioxide', 'total sulfur dioxide', 'density', 'pH', 'sulphates', 'alcohol']\n",
    "plt.figure(figsize=(10,10))\n",
    "sns.heatmap(df[features].corr(), cbar=True, square=True, fmt = '.1f', annot = True, annot_kws={'size':8})"
   ]
  },
  {
   "cell_type": "markdown",
   "metadata": {},
   "source": [
    "Come possiamo notare 'density' ha una correlazione negativa leggermente forte con l'alcol. Perciò, questa feature non verrà considerata nella fase di 'costruzione dei modelli e addestramento'."
   ]
  },
  {
   "cell_type": "markdown",
   "metadata": {},
   "source": [
    "### Quality Label\n",
    "Creiamo la quality label basata sulla già esistente colonna 'quality'\n",
    "\n",
    "- bad per un punteggio minore o uguale di 5\n",
    "- good per più di 5"
   ]
  },
  {
   "cell_type": "code",
   "execution_count": 17,
   "metadata": {},
   "outputs": [],
   "source": [
    "df['quality_label'] = df.quality.apply(lambda q: 'bad' if q <= 6 else 'good')"
   ]
  },
  {
   "cell_type": "markdown",
   "metadata": {},
   "source": [
    "## Distribuzione della classe quality"
   ]
  },
  {
   "cell_type": "markdown",
   "metadata": {},
   "source": [
    "Osserviamo la correlazione tra la qualità del vino e la percentuale alcolica"
   ]
  },
  {
   "cell_type": "code",
   "execution_count": 18,
   "metadata": {},
   "outputs": [
    {
     "data": {
      "text/plain": [
       "<matplotlib.axes._subplots.AxesSubplot at 0x265bdfc0b80>"
      ]
     },
     "execution_count": 18,
     "metadata": {},
     "output_type": "execute_result"
    },
    {
     "data": {
      "image/png": "[encoded data removed]",
      "text/plain": [
       "<Figure size 720x432 with 1 Axes>"
      ]
     },
     "metadata": {
      "needs_background": "light"
     },
     "output_type": "display_data"
    }
   ],
   "source": [
    "fig = plt.figure(figsize = (10,6))\n",
    "sns.barplot(x = 'quality', y = 'alcohol', data = df)"
   ]
  },
  {
   "cell_type": "markdown",
   "metadata": {},
   "source": [
    "Come possiamo notare la qualità di un vino cresce all'aumentare del grado alcolico."
   ]
  },
  {
   "cell_type": "markdown",
   "metadata": {},
   "source": [
    "Osserviamo ora il bilanciamento della classe quality_label, cioè il target della classificazione:"
   ]
  },
  {
   "cell_type": "code",
   "execution_count": 19,
   "metadata": {
    "scrolled": true
   },
   "outputs": [
    {
     "data": {
      "text/plain": [
       "<matplotlib.axes._subplots.AxesSubplot at 0x265be1c8880>"
      ]
     },
     "execution_count": 19,
     "metadata": {},
     "output_type": "execute_result"
    },
    {
     "data": {
      "image/png": "[encoded data removed]",
      "text/plain": [
       "<Figure size 432x288 with 1 Axes>"
      ]
     },
     "metadata": {
      "needs_background": "light"
     },
     "output_type": "display_data"
    }
   ],
   "source": [
    "quality_count = df['quality_label'].value_counts()\n",
    "quality_count.plot(kind='bar', title='Count (quality_label)')"
   ]
  },
  {
   "cell_type": "code",
   "execution_count": 20,
   "metadata": {
    "scrolled": false
   },
   "outputs": [
    {
     "data": {
      "text/plain": [
       "bad     4273\n",
       "good    1005\n",
       "Name: quality_label, dtype: int64"
      ]
     },
     "execution_count": 20,
     "metadata": {},
     "output_type": "execute_result"
    }
   ],
   "source": [
    "df.quality_label.value_counts()"
   ]
  },
  {
   "cell_type": "code",
   "execution_count": 21,
   "metadata": {
    "scrolled": false
   },
   "outputs": [
    {
     "data": {
      "text/plain": [
       "<matplotlib.axes._subplots.AxesSubplot at 0x265be2039a0>"
      ]
     },
     "execution_count": 21,
     "metadata": {},
     "output_type": "execute_result"
    },
    {
     "data": {
      "image/png": "[encoded data removed]",
      "text/plain": [
       "<Figure size 792x648 with 2 Axes>"
      ]
     },
     "metadata": {},
     "output_type": "display_data"
    }
   ],
   "source": [
    "import numpy as np\n",
    "# chiamo .corr() per calcolare la correlazione a coppie tra le feature del dataframe\n",
    "corr = df.corr()\n",
    "\n",
    "# visualizzazione dei dati\n",
    "mask = np.triu(np.ones_like(corr, dtype=bool))\n",
    "sns.set_style(style = 'white')\n",
    "f, ax = plt.subplots(figsize=(11, 9))\n",
    "cmap = sns.diverging_palette(10, 250, as_cmap=True)\n",
    "sns.heatmap(corr, mask=mask, cmap=cmap, \n",
    "        square=True,\n",
    "        linewidths=.5, cbar_kws={\"shrink\": .5}, ax=ax)"
   ]
  },
  {
   "cell_type": "code",
   "execution_count": 22,
   "metadata": {
    "scrolled": true
   },
   "outputs": [
    {
     "data": {
      "text/html": [
       "<div>\n",
       "<style scoped>\n",
       "    .dataframe tbody tr th:only-of-type {\n",
       "        vertical-align: middle;\n",
       "    }\n",
       "\n",
       "    .dataframe tbody tr th {\n",
       "        vertical-align: top;\n",
       "    }\n",
       "\n",
       "    .dataframe thead th {\n",
       "        text-align: right;\n",
       "    }\n",
       "</style>\n",
       "<table border=\"1\" class=\"dataframe\">\n",
       "  <thead>\n",
       "    <tr style=\"text-align: right;\">\n",
       "      <th></th>\n",
       "      <th>fixed acidity</th>\n",
       "      <th>volatile acidity</th>\n",
       "      <th>citric acid</th>\n",
       "      <th>residual sugar</th>\n",
       "      <th>chlorides</th>\n",
       "      <th>free sulfur dioxide</th>\n",
       "      <th>total sulfur dioxide</th>\n",
       "      <th>density</th>\n",
       "      <th>pH</th>\n",
       "      <th>sulphates</th>\n",
       "      <th>alcohol</th>\n",
       "      <th>quality</th>\n",
       "      <th>white</th>\n",
       "      <th>quality_label</th>\n",
       "    </tr>\n",
       "  </thead>\n",
       "  <tbody>\n",
       "    <tr>\n",
       "      <th>1</th>\n",
       "      <td>6.3</td>\n",
       "      <td>0.30</td>\n",
       "      <td>0.34</td>\n",
       "      <td>1.6</td>\n",
       "      <td>0.049</td>\n",
       "      <td>14.0</td>\n",
       "      <td>132.0</td>\n",
       "      <td>0.9940</td>\n",
       "      <td>3.30</td>\n",
       "      <td>0.49</td>\n",
       "      <td>9.5</td>\n",
       "      <td>6</td>\n",
       "      <td>1</td>\n",
       "      <td>bad</td>\n",
       "    </tr>\n",
       "    <tr>\n",
       "      <th>2</th>\n",
       "      <td>8.1</td>\n",
       "      <td>0.28</td>\n",
       "      <td>0.40</td>\n",
       "      <td>6.9</td>\n",
       "      <td>0.050</td>\n",
       "      <td>30.0</td>\n",
       "      <td>97.0</td>\n",
       "      <td>0.9951</td>\n",
       "      <td>3.26</td>\n",
       "      <td>0.44</td>\n",
       "      <td>10.1</td>\n",
       "      <td>6</td>\n",
       "      <td>1</td>\n",
       "      <td>bad</td>\n",
       "    </tr>\n",
       "    <tr>\n",
       "      <th>3</th>\n",
       "      <td>7.2</td>\n",
       "      <td>0.23</td>\n",
       "      <td>0.32</td>\n",
       "      <td>8.5</td>\n",
       "      <td>0.058</td>\n",
       "      <td>47.0</td>\n",
       "      <td>186.0</td>\n",
       "      <td>0.9956</td>\n",
       "      <td>3.19</td>\n",
       "      <td>0.40</td>\n",
       "      <td>9.9</td>\n",
       "      <td>6</td>\n",
       "      <td>1</td>\n",
       "      <td>bad</td>\n",
       "    </tr>\n",
       "    <tr>\n",
       "      <th>6</th>\n",
       "      <td>6.2</td>\n",
       "      <td>0.32</td>\n",
       "      <td>0.16</td>\n",
       "      <td>7.0</td>\n",
       "      <td>0.045</td>\n",
       "      <td>30.0</td>\n",
       "      <td>136.0</td>\n",
       "      <td>0.9949</td>\n",
       "      <td>3.18</td>\n",
       "      <td>0.47</td>\n",
       "      <td>9.6</td>\n",
       "      <td>6</td>\n",
       "      <td>1</td>\n",
       "      <td>bad</td>\n",
       "    </tr>\n",
       "    <tr>\n",
       "      <th>9</th>\n",
       "      <td>8.1</td>\n",
       "      <td>0.22</td>\n",
       "      <td>0.43</td>\n",
       "      <td>1.5</td>\n",
       "      <td>0.044</td>\n",
       "      <td>28.0</td>\n",
       "      <td>129.0</td>\n",
       "      <td>0.9938</td>\n",
       "      <td>3.22</td>\n",
       "      <td>0.45</td>\n",
       "      <td>11.0</td>\n",
       "      <td>6</td>\n",
       "      <td>1</td>\n",
       "      <td>bad</td>\n",
       "    </tr>\n",
       "  </tbody>\n",
       "</table>\n",
       "</div>"
      ],
      "text/plain": [
       "   fixed acidity  volatile acidity  citric acid  residual sugar  chlorides  \\\n",
       "1            6.3              0.30         0.34             1.6      0.049   \n",
       "2            8.1              0.28         0.40             6.9      0.050   \n",
       "3            7.2              0.23         0.32             8.5      0.058   \n",
       "6            6.2              0.32         0.16             7.0      0.045   \n",
       "9            8.1              0.22         0.43             1.5      0.044   \n",
       "\n",
       "   free sulfur dioxide  total sulfur dioxide  density    pH  sulphates  \\\n",
       "1                 14.0                 132.0   0.9940  3.30       0.49   \n",
       "2                 30.0                  97.0   0.9951  3.26       0.44   \n",
       "3                 47.0                 186.0   0.9956  3.19       0.40   \n",
       "6                 30.0                 136.0   0.9949  3.18       0.47   \n",
       "9                 28.0                 129.0   0.9938  3.22       0.45   \n",
       "\n",
       "   alcohol  quality  white quality_label  \n",
       "1      9.5        6      1           bad  \n",
       "2     10.1        6      1           bad  \n",
       "3      9.9        6      1           bad  \n",
       "6      9.6        6      1           bad  \n",
       "9     11.0        6      1           bad  "
      ]
     },
     "execution_count": 22,
     "metadata": {},
     "output_type": "execute_result"
    }
   ],
   "source": [
    "df.head()"
   ]
  },
  {
   "cell_type": "markdown",
   "metadata": {},
   "source": [
    "Utilizziamo la classe LabelEncoder per poter convertire la colonna  'quality_label' in feature numerica"
   ]
  },
  {
   "cell_type": "code",
   "execution_count": 23,
   "metadata": {},
   "outputs": [
    {
     "data": {
      "text/html": [
       "<div>\n",
       "<style scoped>\n",
       "    .dataframe tbody tr th:only-of-type {\n",
       "        vertical-align: middle;\n",
       "    }\n",
       "\n",
       "    .dataframe tbody tr th {\n",
       "        vertical-align: top;\n",
       "    }\n",
       "\n",
       "    .dataframe thead th {\n",
       "        text-align: right;\n",
       "    }\n",
       "</style>\n",
       "<table border=\"1\" class=\"dataframe\">\n",
       "  <thead>\n",
       "    <tr style=\"text-align: right;\">\n",
       "      <th></th>\n",
       "      <th>fixed acidity</th>\n",
       "      <th>volatile acidity</th>\n",
       "      <th>citric acid</th>\n",
       "      <th>residual sugar</th>\n",
       "      <th>chlorides</th>\n",
       "      <th>free sulfur dioxide</th>\n",
       "      <th>total sulfur dioxide</th>\n",
       "      <th>density</th>\n",
       "      <th>pH</th>\n",
       "      <th>sulphates</th>\n",
       "      <th>alcohol</th>\n",
       "      <th>quality</th>\n",
       "      <th>white</th>\n",
       "      <th>quality_label</th>\n",
       "    </tr>\n",
       "  </thead>\n",
       "  <tbody>\n",
       "    <tr>\n",
       "      <th>1</th>\n",
       "      <td>6.3</td>\n",
       "      <td>0.30</td>\n",
       "      <td>0.34</td>\n",
       "      <td>1.6</td>\n",
       "      <td>0.049</td>\n",
       "      <td>14.0</td>\n",
       "      <td>132.0</td>\n",
       "      <td>0.9940</td>\n",
       "      <td>3.30</td>\n",
       "      <td>0.49</td>\n",
       "      <td>9.5</td>\n",
       "      <td>6</td>\n",
       "      <td>1</td>\n",
       "      <td>0.0</td>\n",
       "    </tr>\n",
       "    <tr>\n",
       "      <th>2</th>\n",
       "      <td>8.1</td>\n",
       "      <td>0.28</td>\n",
       "      <td>0.40</td>\n",
       "      <td>6.9</td>\n",
       "      <td>0.050</td>\n",
       "      <td>30.0</td>\n",
       "      <td>97.0</td>\n",
       "      <td>0.9951</td>\n",
       "      <td>3.26</td>\n",
       "      <td>0.44</td>\n",
       "      <td>10.1</td>\n",
       "      <td>6</td>\n",
       "      <td>1</td>\n",
       "      <td>0.0</td>\n",
       "    </tr>\n",
       "    <tr>\n",
       "      <th>3</th>\n",
       "      <td>7.2</td>\n",
       "      <td>0.23</td>\n",
       "      <td>0.32</td>\n",
       "      <td>8.5</td>\n",
       "      <td>0.058</td>\n",
       "      <td>47.0</td>\n",
       "      <td>186.0</td>\n",
       "      <td>0.9956</td>\n",
       "      <td>3.19</td>\n",
       "      <td>0.40</td>\n",
       "      <td>9.9</td>\n",
       "      <td>6</td>\n",
       "      <td>1</td>\n",
       "      <td>0.0</td>\n",
       "    </tr>\n",
       "    <tr>\n",
       "      <th>6</th>\n",
       "      <td>6.2</td>\n",
       "      <td>0.32</td>\n",
       "      <td>0.16</td>\n",
       "      <td>7.0</td>\n",
       "      <td>0.045</td>\n",
       "      <td>30.0</td>\n",
       "      <td>136.0</td>\n",
       "      <td>0.9949</td>\n",
       "      <td>3.18</td>\n",
       "      <td>0.47</td>\n",
       "      <td>9.6</td>\n",
       "      <td>6</td>\n",
       "      <td>1</td>\n",
       "      <td>0.0</td>\n",
       "    </tr>\n",
       "    <tr>\n",
       "      <th>9</th>\n",
       "      <td>8.1</td>\n",
       "      <td>0.22</td>\n",
       "      <td>0.43</td>\n",
       "      <td>1.5</td>\n",
       "      <td>0.044</td>\n",
       "      <td>28.0</td>\n",
       "      <td>129.0</td>\n",
       "      <td>0.9938</td>\n",
       "      <td>3.22</td>\n",
       "      <td>0.45</td>\n",
       "      <td>11.0</td>\n",
       "      <td>6</td>\n",
       "      <td>1</td>\n",
       "      <td>0.0</td>\n",
       "    </tr>\n",
       "  </tbody>\n",
       "</table>\n",
       "</div>"
      ],
      "text/plain": [
       "   fixed acidity  volatile acidity  citric acid  residual sugar  chlorides  \\\n",
       "1            6.3              0.30         0.34             1.6      0.049   \n",
       "2            8.1              0.28         0.40             6.9      0.050   \n",
       "3            7.2              0.23         0.32             8.5      0.058   \n",
       "6            6.2              0.32         0.16             7.0      0.045   \n",
       "9            8.1              0.22         0.43             1.5      0.044   \n",
       "\n",
       "   free sulfur dioxide  total sulfur dioxide  density    pH  sulphates  \\\n",
       "1                 14.0                 132.0   0.9940  3.30       0.49   \n",
       "2                 30.0                  97.0   0.9951  3.26       0.44   \n",
       "3                 47.0                 186.0   0.9956  3.19       0.40   \n",
       "6                 30.0                 136.0   0.9949  3.18       0.47   \n",
       "9                 28.0                 129.0   0.9938  3.22       0.45   \n",
       "\n",
       "   alcohol  quality  white  quality_label  \n",
       "1      9.5        6      1            0.0  \n",
       "2     10.1        6      1            0.0  \n",
       "3      9.9        6      1            0.0  \n",
       "6      9.6        6      1            0.0  \n",
       "9     11.0        6      1            0.0  "
      ]
     },
     "execution_count": 23,
     "metadata": {},
     "output_type": "execute_result"
    }
   ],
   "source": [
    "ord_enc = OrdinalEncoder()\n",
    "df[\"quality_label\"] = ord_enc.fit_transform(df[[\"quality_label\"]]) # assume 1 se good 0 se bad\n",
    "df.head()"
   ]
  },
  {
   "cell_type": "markdown",
   "metadata": {},
   "source": [
    "# Costruzione dei modelli & Addestramento\n",
    "## Preparazione del dataset\n",
    "Prenderemo come target la colonna 'quality_label' per una maggiore accuratezza. Avendo già convertito questo attributo categorico utilizzando la classe LabelEncoder, possiamo procedere alla costruzione dei vari modelli di classificazione ed addestramento."
   ]
  },
  {
   "cell_type": "code",
   "execution_count": 24,
   "metadata": {
    "scrolled": true
   },
   "outputs": [
    {
     "name": "stdout",
     "output_type": "stream",
     "text": [
      "0.0    4273\n",
      "1.0    1005\n",
      "Name: quality_label, dtype: int64\n"
     ]
    }
   ],
   "source": [
    "print(df['quality_label'].value_counts())"
   ]
  },
  {
   "cell_type": "markdown",
   "metadata": {},
   "source": [
    "## Divisione del dataset"
   ]
  },
  {
   "cell_type": "markdown",
   "metadata": {},
   "source": [
    "Dividiamo ora il dataset in train e test considerando soltanto le feature che hanno più importanza, infatti la densità non verrà considerata per questo esperimento. Così facendo viene ridotta la complessità dei vari modelli."
   ]
  },
  {
   "cell_type": "code",
   "execution_count": 25,
   "metadata": {},
   "outputs": [],
   "source": [
    "X = df.drop(['quality_label','quality','density'], axis = 1)\n",
    "y = df['quality_label']"
   ]
  },
  {
   "cell_type": "markdown",
   "metadata": {},
   "source": [
    "### Applicazione di SMOTE per il bilanciamento dei dati"
   ]
  },
  {
   "cell_type": "markdown",
   "metadata": {},
   "source": [
    "SMOTE is a technique used by researched in order to remove the data imbalance. In the given\n",
    "research data, there are more instances of white wine samples and lesser instances of red wine\n",
    "samples, thus the data is imbalanced and needs to be balanced in order to remove the bias.\n",
    "Furthermore, there are more instances found between the quality value of 3 to 9 and no instances\n",
    "are found beyond these values. In another setting since the values above 6 are deemed to be\n",
    "wine with good quality and those below the value of 6 are deemed to be wine with low quality,\n",
    "therefore, there are more instances are values above 6 and less of those which have values below\n",
    "less"
   ]
  },
  {
   "cell_type": "markdown",
   "metadata": {},
   "source": [
    "SMOTE (synthetic minority oversampling technique) un'operazione di oversampling sul set di training, in modo da risolvere il problema dello sbilanciamento dei dati"
   ]
  },
  {
   "cell_type": "code",
   "execution_count": 26,
   "metadata": {},
   "outputs": [],
   "source": [
    "# Applicazione di SMOTE per bilanciare le classi\n",
    "oversample = SMOTE()\n",
    "X1, y1 = oversample.fit_resample (X, y)"
   ]
  },
  {
   "cell_type": "code",
   "execution_count": 27,
   "metadata": {
    "scrolled": true
   },
   "outputs": [
    {
     "data": {
      "text/plain": [
       "<matplotlib.axes._subplots.AxesSubplot at 0x265be2e6580>"
      ]
     },
     "execution_count": 27,
     "metadata": {},
     "output_type": "execute_result"
    },
    {
     "data": {
      "image/png": "[encoded data removed]",
      "text/plain": [
       "<Figure size 432x288 with 1 Axes>"
      ]
     },
     "metadata": {},
     "output_type": "display_data"
    }
   ],
   "source": [
    "quality_count = y1.value_counts()\n",
    "quality_count.plot(kind='bar', title='Count (quality_label)')"
   ]
  },
  {
   "cell_type": "markdown",
   "metadata": {},
   "source": [
    "Colonna quality dopo l'applicazione di SMOTE"
   ]
  },
  {
   "cell_type": "markdown",
   "metadata": {},
   "source": [
    "### Train e test set"
   ]
  },
  {
   "cell_type": "code",
   "execution_count": 28,
   "metadata": {},
   "outputs": [],
   "source": [
    "X_train, X_test, y_train, y_test = train_test_split(X1, y1, test_size = 0.2,random_state = 11)"
   ]
  },
  {
   "cell_type": "markdown",
   "metadata": {},
   "source": [
    "## Naive Bayes\n",
    "Tramite questo classificatore possiamo calcolare la probabilità che un determinato evento avvenga all'interno del dataset.\n",
    "\n",
    "Creiamo un pipeline dove vengono svolte in maniere consequenziale le seguenti azioni:\n",
    "\n",
    "- Classifier è il modello che verrà utilizzato per l'apprendimento, in questo caso Naive Bayes\n",
    "\n",
    "La costruzione del classificatore avviene nel seguente modo: si crea un oggetto della classe GaussianNB e successivamente viene chiamato il metodo fit, specificando come argomenti le osservazioni e le corrispondenti etichette. Infine invochiamo il metodo predict passando come argomento una lista di oggetti da classificare."
   ]
  },
  {
   "cell_type": "code",
   "execution_count": 29,
   "metadata": {},
   "outputs": [],
   "source": [
    "pipeline = Pipeline(steps = [['classifier', GaussianNB()]]) "
   ]
  },
  {
   "cell_type": "markdown",
   "metadata": {},
   "source": [
    "Istanziamo un oggetto della classe StratifiedKFold che ci permetterà di andare a definire un tipo di Cross Validation"
   ]
  },
  {
   "cell_type": "code",
   "execution_count": 30,
   "metadata": {},
   "outputs": [],
   "source": [
    "stratified_kfold = StratifiedKFold(n_splits=3,\n",
    "                                       shuffle=True,\n",
    "                                       random_state=5)"
   ]
  },
  {
   "cell_type": "markdown",
   "metadata": {},
   "source": [
    "### Hyperparameter tuning e Ricerca dei parametri migliori"
   ]
  },
  {
   "cell_type": "code",
   "execution_count": 31,
   "metadata": {},
   "outputs": [
    {
     "name": "stdout",
     "output_type": "stream",
     "text": [
      "Fitting 3 folds for each of 1 candidates, totalling 3 fits\n"
     ]
    }
   ],
   "source": [
    "# in param_grid sono definiti gli iperparametri\n",
    "param_grid = {}\n",
    "\n",
    "grid_search = GridSearchCV(estimator=pipeline,\n",
    "                           param_grid=param_grid,\n",
    "                           scoring='accuracy',\n",
    "                           cv=stratified_kfold,\n",
    "                           verbose = 1,\n",
    "                           n_jobs=-1) # utilizzerà tutti i processori disponibili\n",
    "# fase di training del modello\n",
    "grid_search.fit(X_train, y_train.values.ravel())\n",
    "\n",
    "cv_score = grid_search.best_score_\n",
    "\n",
    "# effetuamo la predizione sul set di test\n",
    "y_test_predict = grid_search.predict(X_test)"
   ]
  },
  {
   "cell_type": "markdown",
   "metadata": {},
   "source": [
    "Le metriche che considereremo per ogni modello saranno:\n",
    "\n",
    "- accuracy\n",
    "- recall\n",
    "- precision\n",
    "- f1\n",
    "- matthews correlation coefficent\n",
    "- geometric mean score"
   ]
  },
  {
   "cell_type": "code",
   "execution_count": 32,
   "metadata": {},
   "outputs": [
    {
     "name": "stdout",
     "output_type": "stream",
     "text": [
      "accuracy: 0.7140350877192982\n",
      "precision: 0.7296441648588747\n",
      "recall: 0.7138821707632034\n",
      "f1: 0.7089969462062485\n",
      "matthews_corrcoef: 0.44324617306015884\n",
      "geometric_mean_score: 0.7138821707632034\n"
     ]
    },
    {
     "data": {
      "text/plain": [
       "[]"
      ]
     },
     "execution_count": 32,
     "metadata": {},
     "output_type": "execute_result"
    },
    {
     "data": {
      "image/png": "[encoded data removed]",
      "text/plain": [
       "<Figure size 432x288 with 2 Axes>"
      ]
     },
     "metadata": {},
     "output_type": "display_data"
    }
   ],
   "source": [
    "# calcoliamo le metriche di valutazione\n",
    "accuracy = accuracy_score(y_test, y_test_predict)\n",
    "precision = precision_score(y_test, y_test_predict, average='macro')\n",
    "recall = recall_score(y_test, y_test_predict, average='macro')\n",
    "f1 = f1_score(y_test, y_test_predict, average='macro')\n",
    "mcc = matthews_corrcoef(y_test, y_test_predict)\n",
    "gm = geometric_mean_score(y_test, y_test_predict, average='macro')\n",
    "ConfusionMatrixDisplay.from_predictions(y_test, \n",
    "                                        y_test_predict, \n",
    "                                        cmap=plt.cm.Blues)\n",
    "\n",
    "print(f'accuracy: {accuracy}')\n",
    "print(f'precision: {precision}')\n",
    "print(f'recall: {recall}')\n",
    "print(f'f1: {f1}')\n",
    "print(f'matthews_corrcoef: {mcc}')\n",
    "print(f'geometric_mean_score: {gm}')\n",
    "\n",
    "plt.plot()"
   ]
  },
  {
   "cell_type": "code",
   "execution_count": 33,
   "metadata": {},
   "outputs": [],
   "source": [
    "scoring_list = []\n",
    "scoring_list.append(dict([\n",
    "    ('Model', 'Naive Bayes'),\n",
    "    ('Train Accuracy', round(cv_score, 3)),\n",
    "    ('Test Accuracy', round(accuracy, 3)),\n",
    "    ('Precision', round(precision, 3)),\n",
    "    ('Recall', round(recall, 3)),\n",
    "    ('F1', round(f1, 3)),\n",
    "    ('Matthews Corrcoef', round(mcc,3)),\n",
    "    ('Geometric Mean Score', round(gm, 3))\n",
    "     ]))"
   ]
  },
  {
   "cell_type": "markdown",
   "metadata": {},
   "source": [
    "## Random Forest\n",
    "Useremo il Random Forest della libreria scikit-learn, che calcola la media della previsione probabilistica di tutti gli alberi nella foresta per la previsione finale invece di prendere i voti di previsione effettivi e quindi calcolarne la media"
   ]
  },
  {
   "cell_type": "code",
   "execution_count": 34,
   "metadata": {
    "scrolled": true
   },
   "outputs": [],
   "source": [
    "pipeline = Pipeline(steps = [['classifier', RandomForestClassifier(max_depth=12, random_state=5)]])"
   ]
  },
  {
   "cell_type": "code",
   "execution_count": 35,
   "metadata": {},
   "outputs": [],
   "source": [
    "stratified_kfold = StratifiedKFold(n_splits=3,\n",
    "                                       shuffle=True,\n",
    "                                       random_state=11)"
   ]
  },
  {
   "cell_type": "markdown",
   "metadata": {},
   "source": [
    "### Hyperparameter Tuning"
   ]
  },
  {
   "cell_type": "code",
   "execution_count": 36,
   "metadata": {},
   "outputs": [],
   "source": [
    "# in param_grid sono definiti gli iperparametri\n",
    "param_grid = {\n",
    "                'n_estimators': [50,100, 200],\n",
    "                'max_depth': [6,10, 12],\n",
    "                'random_state': [0,4,5,11,101]\n",
    "                }\n",
    "\n",
    "new_params = {'classifier__' + key: param_grid[key] for key in param_grid}\n",
    "\n",
    "grid_search = GridSearchCV(estimator=pipeline,\n",
    "                           param_grid=new_params,\n",
    "                           scoring='accuracy',\n",
    "                           cv=stratified_kfold,\n",
    "                           verbose = 5,\n",
    "                           n_jobs=-1) # utilizzerà tutti i processori disponibili"
   ]
  },
  {
   "cell_type": "markdown",
   "metadata": {},
   "source": [
    "### Ricerca dei parametri migliori"
   ]
  },
  {
   "cell_type": "code",
   "execution_count": 37,
   "metadata": {},
   "outputs": [
    {
     "name": "stdout",
     "output_type": "stream",
     "text": [
      "Fitting 3 folds for each of 45 candidates, totalling 135 fits\n",
      "Best parameters: {'classifier__max_depth': 12, 'classifier__n_estimators': 200, 'classifier__random_state': 101}\n",
      "Cross-validation score: 0.8513757516523929\n"
     ]
    }
   ],
   "source": [
    "# troviamo il modello migliore\n",
    "grid_search.fit(X_train, y_train.values.ravel())\n",
    "\n",
    "cv_score = grid_search.best_score_\n",
    "best_params = grid_search.best_params_\n",
    "\n",
    "print(f'Best parameters: {best_params}')\n",
    "print(f'Cross-validation score: {cv_score}')\n",
    "\n",
    "# effetuamo la predizione sul set di test\n",
    "y_test_predict = grid_search.predict(X_test)"
   ]
  },
  {
   "cell_type": "code",
   "execution_count": 38,
   "metadata": {},
   "outputs": [
    {
     "name": "stdout",
     "output_type": "stream",
     "text": [
      "accuracy: 0.8707602339181286\n",
      "precision: 0.8756281006513533\n",
      "recall: 0.8706937118343584\n",
      "f1: 0.8703255911627463\n",
      "matthews_corrcoef: 0.7463055001800273\n",
      "geometric_mean_score: 0.8706937118343584\n"
     ]
    },
    {
     "data": {
      "text/plain": [
       "[]"
      ]
     },
     "execution_count": 38,
     "metadata": {},
     "output_type": "execute_result"
    },
    {
     "data": {
      "image/png": "[encoded data removed]",
      "text/plain": [
       "<Figure size 432x288 with 2 Axes>"
      ]
     },
     "metadata": {},
     "output_type": "display_data"
    }
   ],
   "source": [
    "# calcoliamo le metriche di valutazione\n",
    "accuracy = accuracy_score(y_test, y_test_predict)\n",
    "precision = precision_score(y_test, y_test_predict, average='macro')\n",
    "recall = recall_score(y_test, y_test_predict, average='macro')\n",
    "f1 = f1_score(y_test, y_test_predict, average='macro')\n",
    "mcc = matthews_corrcoef(y_test, y_test_predict)\n",
    "gm = geometric_mean_score(y_test, y_test_predict, average='macro')\n",
    "ConfusionMatrixDisplay.from_predictions(y_test, \n",
    "                                        y_test_predict, \n",
    "                                        cmap=plt.cm.Blues)\n",
    "\n",
    "print(f'accuracy: {accuracy}')\n",
    "print(f'precision: {precision}')\n",
    "print(f'recall: {recall}')\n",
    "print(f'f1: {f1}')\n",
    "print(f'matthews_corrcoef: {mcc}')\n",
    "print(f'geometric_mean_score: {gm}')\n",
    "\n",
    "plt.plot()"
   ]
  },
  {
   "cell_type": "code",
   "execution_count": 39,
   "metadata": {},
   "outputs": [],
   "source": [
    "scoring_list.append(dict([\n",
    "    ('Model', 'RandomForest'),\n",
    "    ('Train Accuracy', round(cv_score, 3)),\n",
    "    ('Test Accuracy', round(accuracy, 3)),\n",
    "    ('Precision', round(precision, 3)),\n",
    "    ('Recall', round(recall, 3)),\n",
    "    ('F1', round(f1, 3)),\n",
    "    ('Matthews Corrcoef', round(mcc,3)),\n",
    "    ('Geometric Mean Score', round(gm, 3))\n",
    "     ]))"
   ]
  },
  {
   "cell_type": "markdown",
   "metadata": {},
   "source": [
    "## KNN"
   ]
  },
  {
   "cell_type": "markdown",
   "metadata": {},
   "source": [
    "l KNN è un algoritmo di classificazione che mira a determinare la classe di appartenenza di un dato di input\n",
    "cercando tra tutti gli esempi di addestramento quello più vicino al dato di input in base alla metrica\n",
    "desiderata, come ad esempio la distanza euclidea"
   ]
  },
  {
   "cell_type": "code",
   "execution_count": 40,
   "metadata": {},
   "outputs": [],
   "source": [
    "pipeline = Pipeline(steps = [['classifier',KNeighborsClassifier()]]) "
   ]
  },
  {
   "cell_type": "code",
   "execution_count": 41,
   "metadata": {},
   "outputs": [],
   "source": [
    "stratified_kfold = StratifiedKFold(n_splits=3,\n",
    "                                       shuffle=True,\n",
    "                                       random_state=11)"
   ]
  },
  {
   "cell_type": "markdown",
   "metadata": {},
   "source": [
    "### Hyperparameter tuning"
   ]
  },
  {
   "cell_type": "code",
   "execution_count": 42,
   "metadata": {},
   "outputs": [],
   "source": [
    "# in param_grid sono definiti gli iperparametri\n",
    "param_grid = {\n",
    "         'n_neighbors': [10, 11, 12, 13] ,\n",
    "         'weights': ['distance'],\n",
    "         'algorithm' : ['ball_tree', 'kd_tree' ],\n",
    "         'leaf_size': [12, 11, 13],\n",
    "         'p': [1,2]\n",
    "}\n",
    "\n",
    "\n",
    "new_params = {'classifier__' + key: param_grid[key] for key in param_grid}\n",
    "\n",
    "grid_search = GridSearchCV(estimator=pipeline,\n",
    "                           param_grid=new_params,\n",
    "                           scoring='accuracy',\n",
    "                           cv=stratified_kfold,\n",
    "                           verbose = 5,\n",
    "                           n_jobs=-1) # utilizzerà tutti i processori disponibili"
   ]
  },
  {
   "cell_type": "markdown",
   "metadata": {},
   "source": [
    "### Ricerca dei parametri migliori"
   ]
  },
  {
   "cell_type": "code",
   "execution_count": 43,
   "metadata": {},
   "outputs": [
    {
     "name": "stdout",
     "output_type": "stream",
     "text": [
      "Fitting 3 folds for each of 48 candidates, totalling 144 fits\n",
      "Best parameters: {'classifier__algorithm': 'ball_tree', 'classifier__leaf_size': 12, 'classifier__n_neighbors': 10, 'classifier__p': 1, 'classifier__weights': 'distance'}\n",
      "Cross-validation score: 0.8079281983598255\n"
     ]
    }
   ],
   "source": [
    "# troviamo il modello migliore\n",
    "grid_search.fit(X_train, y_train.values.ravel())\n",
    "\n",
    "cv_score = grid_search.best_score_\n",
    "best_params = grid_search.best_params_\n",
    "\n",
    "print(f'Best parameters: {best_params}')\n",
    "print(f'Cross-validation score: {cv_score}')\n",
    "\n",
    "# effetuamo la predizione sul set di test\n",
    "y_test_predict = grid_search.predict(X_test)"
   ]
  },
  {
   "cell_type": "code",
   "execution_count": 44,
   "metadata": {},
   "outputs": [
    {
     "name": "stdout",
     "output_type": "stream",
     "text": [
      "accuracy: 0.8134502923976609\n",
      "precision: 0.8441258983995228\n",
      "recall: 0.8132756243297073\n",
      "f1: 0.8091391651163677\n",
      "matthews_corrcoef: 0.6566772591437346\n",
      "geometric_mean_score: 0.8132756243297073\n"
     ]
    },
    {
     "data": {
      "text/plain": [
       "[]"
      ]
     },
     "execution_count": 44,
     "metadata": {},
     "output_type": "execute_result"
    },
    {
     "data": {
      "image/png": "[encoded data removed]",
      "text/plain": [
       "<Figure size 432x288 with 2 Axes>"
      ]
     },
     "metadata": {},
     "output_type": "display_data"
    }
   ],
   "source": [
    "# calcoliamo le metriche di valutazione\n",
    "accuracy = accuracy_score(y_test, y_test_predict)\n",
    "precision = precision_score(y_test, y_test_predict, average='macro')\n",
    "recall = recall_score(y_test, y_test_predict, average='macro')\n",
    "f1 = f1_score(y_test, y_test_predict, average='macro')\n",
    "mcc = matthews_corrcoef(y_test, y_test_predict)\n",
    "gm = geometric_mean_score(y_test, y_test_predict, average='macro')\n",
    "ConfusionMatrixDisplay.from_predictions(y_test, \n",
    "                                        y_test_predict, \n",
    "                                        cmap=plt.cm.Blues)\n",
    "\n",
    "print(f'accuracy: {accuracy}')\n",
    "print(f'precision: {precision}')\n",
    "print(f'recall: {recall}')\n",
    "print(f'f1: {f1}')\n",
    "print(f'matthews_corrcoef: {mcc}')\n",
    "print(f'geometric_mean_score: {gm}')\n",
    "\n",
    "plt.plot()"
   ]
  },
  {
   "cell_type": "code",
   "execution_count": 45,
   "metadata": {},
   "outputs": [],
   "source": [
    "scoring_list.append(dict([\n",
    "    ('Model', 'KNN'),\n",
    "    ('Train Accuracy', round(cv_score, 3)),\n",
    "    ('Test Accuracy', round(accuracy, 3)),\n",
    "    ('Precision', round(precision, 3)),\n",
    "    ('Recall', round(recall, 3)),\n",
    "    ('F1', round(f1, 3)),\n",
    "    ('Matthews Corrcoef', round(mcc,3)),\n",
    "    ('Geometric Mean Score', round(gm, 3))\n",
    "     ]))"
   ]
  },
  {
   "cell_type": "markdown",
   "metadata": {},
   "source": [
    "## Support Vector Machine"
   ]
  },
  {
   "cell_type": "markdown",
   "metadata": {},
   "source": [
    "The support vector machine (SVM) is the most popular and most widely used machine learning algorithm. It is a supervised learning model that can perform classification and regression tasks. However, it is primarily used for classification problems in machine learning. The SVM algorithm aims to create the best line or decision boundary that can separate n-dimensional space into classes. So we can put the new data points easily in the correct groups. This best decision boundary is called a hyperplane."
   ]
  },
  {
   "cell_type": "code",
   "execution_count": 46,
   "metadata": {},
   "outputs": [],
   "source": [
    "pipeline = Pipeline(steps = [['classifier',SVC(kernel=None,\n",
    "                                                  gamma=None, \n",
    "                                                  C=None)]])\n",
    "stratified_kfold = StratifiedKFold(n_splits=3,\n",
    "                                       shuffle=True,\n",
    "                                       random_state=11)"
   ]
  },
  {
   "cell_type": "markdown",
   "metadata": {},
   "source": [
    "### Hyperparameter tuning"
   ]
  },
  {
   "cell_type": "code",
   "execution_count": 47,
   "metadata": {},
   "outputs": [],
   "source": [
    "# in param_grid sono definiti gli iperparametri\n",
    "param_grid = {'C': [0.08, 0.1, 1, 10, 100], \n",
    "              'gamma': [1, 0.1, 0.01, 0.001, 0.0001],\n",
    "              'kernel': ['rbf'] # linear\n",
    "              }\n",
    "\n",
    "new_params = {'classifier__' + key: param_grid[key] for key in param_grid}\n",
    "\n",
    "grid_search = GridSearchCV(estimator=pipeline,\n",
    "                           param_grid=new_params,\n",
    "                           scoring='accuracy',\n",
    "                           cv=stratified_kfold,\n",
    "                           verbose = 5,\n",
    "                           n_jobs=-1) # utilizzerà tutti i processori disponibili"
   ]
  },
  {
   "cell_type": "markdown",
   "metadata": {},
   "source": [
    "### Ricerca dei parametri migliori"
   ]
  },
  {
   "cell_type": "code",
   "execution_count": 48,
   "metadata": {},
   "outputs": [
    {
     "name": "stdout",
     "output_type": "stream",
     "text": [
      "Fitting 3 folds for each of 25 candidates, totalling 75 fits\n",
      "Best parameters: {'classifier__C': 10, 'classifier__gamma': 0.1, 'classifier__kernel': 'rbf'}\n",
      "Cross-validation score: 0.8616153802394475\n"
     ]
    }
   ],
   "source": [
    "# troviamo il modello migliore\n",
    "grid_search.fit(X_train, y_train.values.ravel())\n",
    "\n",
    "cv_score = grid_search.best_score_\n",
    "best_params = grid_search.best_params_\n",
    "\n",
    "print(f'Best parameters: {best_params}')\n",
    "print(f'Cross-validation score: {cv_score}')\n",
    "\n",
    "# effetuamo la predizione sul set di test\n",
    "y_test_predict = grid_search.predict(X_test)"
   ]
  },
  {
   "cell_type": "code",
   "execution_count": 49,
   "metadata": {},
   "outputs": [
    {
     "name": "stdout",
     "output_type": "stream",
     "text": [
      "accuracy: 0.8853801169590644\n",
      "precision: 0.893438432398002\n",
      "recall: 0.8852965155726762\n",
      "f1: 0.8847742171481379\n",
      "matthews_corrcoef: 0.778692383667199\n",
      "geometric_mean_score: 0.8852965155726762\n"
     ]
    },
    {
     "data": {
      "text/plain": [
       "[]"
      ]
     },
     "execution_count": 49,
     "metadata": {},
     "output_type": "execute_result"
    },
    {
     "data": {
      "image/png": "[encoded data removed]",
      "text/plain": [
       "<Figure size 432x288 with 2 Axes>"
      ]
     },
     "metadata": {},
     "output_type": "display_data"
    }
   ],
   "source": [
    "# calcoliamo le metriche di valutazione\n",
    "accuracy = accuracy_score(y_test, y_test_predict)\n",
    "precision = precision_score(y_test, y_test_predict, average='macro')\n",
    "recall = recall_score(y_test, y_test_predict, average='macro')\n",
    "f1 = f1_score(y_test, y_test_predict, average='macro')\n",
    "mcc = matthews_corrcoef(y_test, y_test_predict)\n",
    "gm = geometric_mean_score(y_test, y_test_predict, average='macro')\n",
    "ConfusionMatrixDisplay.from_predictions(y_test, \n",
    "                                        y_test_predict, \n",
    "                                        cmap=plt.cm.Blues)\n",
    "\n",
    "print(f'accuracy: {accuracy}')\n",
    "print(f'precision: {precision}')\n",
    "print(f'recall: {recall}')\n",
    "print(f'f1: {f1}')\n",
    "print(f'matthews_corrcoef: {mcc}')\n",
    "print(f'geometric_mean_score: {gm}')\n",
    "\n",
    "plt.plot()"
   ]
  },
  {
   "cell_type": "code",
   "execution_count": 50,
   "metadata": {},
   "outputs": [],
   "source": [
    "scoring_list.append(dict([\n",
    "    ('Model', 'SVM'),\n",
    "    ('Train Accuracy', round(cv_score, 3)),\n",
    "    ('Test Accuracy', round(accuracy, 3)),\n",
    "    ('Precision', round(precision, 3)),\n",
    "    ('Recall', round(recall, 3)),\n",
    "    ('F1', round(f1, 3)),\n",
    "    ('Matthews Corrcoef', round(mcc,3)),\n",
    "    ('Geometric Mean Score', round(gm, 3))\n",
    "     ]))"
   ]
  },
  {
   "cell_type": "markdown",
   "metadata": {},
   "source": [
    "# Confronto dei vari modelli"
   ]
  },
  {
   "cell_type": "code",
   "execution_count": 51,
   "metadata": {
    "scrolled": true
   },
   "outputs": [
    {
     "name": "stdout",
     "output_type": "stream",
     "text": [
      "          Model  Train Accuracy  Test Accuracy  Precision  Recall     F1  \\\n",
      "3           SVM           0.862          0.885      0.893   0.885  0.885   \n",
      "1  RandomForest           0.851          0.871      0.876   0.871  0.870   \n",
      "2           KNN           0.808          0.813      0.844   0.813  0.809   \n",
      "0   Naive Bayes           0.715          0.714      0.730   0.714  0.709   \n",
      "\n",
      "   Matthews Corrcoef  Geometric Mean Score  \n",
      "3              0.779                 0.885  \n",
      "1              0.746                 0.871  \n",
      "2              0.657                 0.813  \n",
      "0              0.443                 0.714  \n"
     ]
    }
   ],
   "source": [
    "results = pd.DataFrame(data=scoring_list)\n",
    "results = results[['Model',\n",
    "                   'Train Accuracy',\n",
    "                   'Test Accuracy',\n",
    "                   'Precision',\n",
    "                   'Recall',\n",
    "                   'F1',\n",
    "                   'Matthews Corrcoef',\n",
    "                   'Geometric Mean Score']]\n",
    "\n",
    "results = results.sort_values(by='Recall', ascending=False)\n",
    "\n",
    "print(results)"
   ]
  },
  {
   "cell_type": "code",
   "execution_count": 52,
   "metadata": {},
   "outputs": [
    {
     "data": {
      "image/png": "[encoded data removed]",
      "text/plain": [
       "<Figure size 432x288 with 1 Axes>"
      ]
     },
     "metadata": {},
     "output_type": "display_data"
    }
   ],
   "source": [
    "with sns.axes_style(\"darkgrid\"):\n",
    "    sns.barplot(data = results,\n",
    "                x=results['Model'],\n",
    "                y=results['Test Accuracy'],\n",
    "                palette = 'inferno').set(title = \"Confronto Classificatori - Test Accuracy\")"
   ]
  },
  {
   "cell_type": "code",
   "execution_count": 53,
   "metadata": {
    "scrolled": true
   },
   "outputs": [
    {
     "data": {
      "image/png": "[encoded data removed]",
      "text/plain": [
       "<Figure size 432x288 with 1 Axes>"
      ]
     },
     "metadata": {},
     "output_type": "display_data"
    }
   ],
   "source": [
    "with sns.axes_style(\"darkgrid\"):\n",
    "    sns.barplot(data = results,\n",
    "                x=results['Model'],\n",
    "                y=results['Precision'],\n",
    "                palette = 'inferno').set(title = \"Confronto Classificatori - Precision\")"
   ]
  },
  {
   "cell_type": "code",
   "execution_count": 54,
   "metadata": {
    "scrolled": true
   },
   "outputs": [
    {
     "data": {
      "image/png": "[encoded data removed]",
      "text/plain": [
       "<Figure size 432x288 with 1 Axes>"
      ]
     },
     "metadata": {},
     "output_type": "display_data"
    }
   ],
   "source": [
    "with sns.axes_style(\"darkgrid\"):\n",
    "    sns.barplot(data = results,\n",
    "                x=results['Model'],\n",
    "                y=results['Recall'],\n",
    "                palette = 'inferno').set(title = \"Confronto Classificatori - Recall\")"
   ]
  },
  {
   "cell_type": "markdown",
   "metadata": {},
   "source": [
    "Come possiamo vedere dai grafici precedenti, il modello migliore è risultato il Support Vector Machine (accuracy dell'88%) seguito dal Random Forest (accuracy del 87%) con indice di profondità pari a 12. Nel complesso quasi tutti i modelli si sono comportati circa in egual modo, a differenza del Naive Bayes che ha restiuito un Accuracy dell'70% circa"
   ]
  },
  {
   "cell_type": "code",
   "execution_count": null,
   "metadata": {},
   "outputs": [],
   "source": []
  }
 ],
 "metadata": {
  "kernelspec": {
   "display_name": "Python 3",
   "language": "python",
   "name": "python3"
  },
  "language_info": {
   "codemirror_mode": {
    "name": "ipython",
    "version": 3
   },
   "file_extension": ".py",
   "mimetype": "text/x-python",
   "name": "python",
   "nbconvert_exporter": "python",
   "pygments_lexer": "ipython3",
   "version": "3.8.3"
  }
 },
 "nbformat": 4,
 "nbformat_minor": 5
}
